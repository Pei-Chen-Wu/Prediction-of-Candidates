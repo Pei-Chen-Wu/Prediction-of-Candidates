{
 "cells": [
  {
   "cell_type": "markdown",
   "metadata": {},
   "source": [
    "# Data Preprocessing"
   ]
  },
  {
   "cell_type": "code",
   "execution_count": 1,
   "metadata": {
    "scrolled": true
   },
   "outputs": [],
   "source": [
    "import os\n",
    "import pickle \n",
    "import pandas as pd\n",
    "import numpy as np\n",
    "from PIL import Image\n",
    "from tqdm import tqdm\n",
    "import matplotlib.pyplot as plt\n",
    "\n",
    "from sklearn import metrics\n",
    "from sklearn.utils import shuffle\n",
    "\n",
    "import torch\n",
    "import torch.nn as nn\n",
    "import torch.nn.functional as F\n",
    "import torch.optim as optim\n",
    "from torch.utils.data import Dataset, DataLoader\n",
    "from torchvision import transforms\n",
    "import torchvision.models as models\n",
    "from torch.autograd import Variable"
   ]
  },
  {
   "cell_type": "code",
   "execution_count": 2,
   "metadata": {},
   "outputs": [
    {
     "name": "stdout",
     "output_type": "stream",
     "text": [
      "There are 1 GPU(s) available.\n",
      "We will use the GPU: GeForce RTX 2080 Ti\n"
     ]
    }
   ],
   "source": [
    "# If there's a GPU available...\n",
    "if torch.cuda.is_available():    \n",
    "\n",
    "    # Tell PyTorch to use the GPU.    \n",
    "    device = torch.device(\"cuda\")\n",
    "\n",
    "    print('There are %d GPU(s) available.' % torch.cuda.device_count())\n",
    "\n",
    "    print('We will use the GPU:', torch.cuda.get_device_name(0))\n",
    "\n",
    "# If not...\n",
    "else:\n",
    "    print('No GPU available, using the CPU instead.')\n",
    "    device = torch.device(\"cpu\")"
   ]
  },
  {
   "cell_type": "markdown",
   "metadata": {},
   "source": [
    "# Creating dataframe"
   ]
  },
  {
   "cell_type": "code",
   "execution_count": 3,
   "metadata": {},
   "outputs": [
    {
     "data": {
      "text/html": [
       "<div>\n",
       "<style scoped>\n",
       "    .dataframe tbody tr th:only-of-type {\n",
       "        vertical-align: middle;\n",
       "    }\n",
       "\n",
       "    .dataframe tbody tr th {\n",
       "        vertical-align: top;\n",
       "    }\n",
       "\n",
       "    .dataframe thead th {\n",
       "        text-align: right;\n",
       "    }\n",
       "</style>\n",
       "<table border=\"1\" class=\"dataframe\">\n",
       "  <thead>\n",
       "    <tr style=\"text-align: right;\">\n",
       "      <th></th>\n",
       "      <th>image</th>\n",
       "      <th>label</th>\n",
       "    </tr>\n",
       "  </thead>\n",
       "  <tbody>\n",
       "    <tr>\n",
       "      <th>0</th>\n",
       "      <td>310002054.png</td>\n",
       "      <td>1</td>\n",
       "    </tr>\n",
       "    <tr>\n",
       "      <th>1</th>\n",
       "      <td>370913041.png</td>\n",
       "      <td>1</td>\n",
       "    </tr>\n",
       "    <tr>\n",
       "      <th>2</th>\n",
       "      <td>370413083.png</td>\n",
       "      <td>1</td>\n",
       "    </tr>\n",
       "    <tr>\n",
       "      <th>3</th>\n",
       "      <td>371001371.png</td>\n",
       "      <td>1</td>\n",
       "    </tr>\n",
       "    <tr>\n",
       "      <th>4</th>\n",
       "      <td>330001403.png</td>\n",
       "      <td>1</td>\n",
       "    </tr>\n",
       "    <tr>\n",
       "      <th>...</th>\n",
       "      <td>...</td>\n",
       "      <td>...</td>\n",
       "    </tr>\n",
       "    <tr>\n",
       "      <th>10030</th>\n",
       "      <td>370301551.png</td>\n",
       "      <td>1</td>\n",
       "    </tr>\n",
       "    <tr>\n",
       "      <th>10031</th>\n",
       "      <td>320012121.png</td>\n",
       "      <td>1</td>\n",
       "    </tr>\n",
       "    <tr>\n",
       "      <th>10032</th>\n",
       "      <td>350002152.png</td>\n",
       "      <td>1</td>\n",
       "    </tr>\n",
       "    <tr>\n",
       "      <th>10033</th>\n",
       "      <td>320016122.png</td>\n",
       "      <td>1</td>\n",
       "    </tr>\n",
       "    <tr>\n",
       "      <th>10034</th>\n",
       "      <td>370101131.png</td>\n",
       "      <td>1</td>\n",
       "    </tr>\n",
       "  </tbody>\n",
       "</table>\n",
       "<p>10035 rows × 2 columns</p>\n",
       "</div>"
      ],
      "text/plain": [
       "               image  label\n",
       "0      310002054.png      1\n",
       "1      370913041.png      1\n",
       "2      370413083.png      1\n",
       "3      371001371.png      1\n",
       "4      330001403.png      1\n",
       "...              ...    ...\n",
       "10030  370301551.png      1\n",
       "10031  320012121.png      1\n",
       "10032  350002152.png      1\n",
       "10033  320016122.png      1\n",
       "10034  370101131.png      1\n",
       "\n",
       "[10035 rows x 2 columns]"
      ]
     },
     "execution_count": 3,
     "metadata": {},
     "output_type": "execute_result"
    }
   ],
   "source": [
    "traindf = pd.read_csv(\"./model/103_train_1024.csv\") \n",
    "traindf "
   ]
  },
  {
   "cell_type": "code",
   "execution_count": 4,
   "metadata": {},
   "outputs": [
    {
     "data": {
      "text/html": [
       "<div>\n",
       "<style scoped>\n",
       "    .dataframe tbody tr th:only-of-type {\n",
       "        vertical-align: middle;\n",
       "    }\n",
       "\n",
       "    .dataframe tbody tr th {\n",
       "        vertical-align: top;\n",
       "    }\n",
       "\n",
       "    .dataframe thead th {\n",
       "        text-align: right;\n",
       "    }\n",
       "</style>\n",
       "<table border=\"1\" class=\"dataframe\">\n",
       "  <thead>\n",
       "    <tr style=\"text-align: right;\">\n",
       "      <th></th>\n",
       "      <th>image</th>\n",
       "      <th>label</th>\n",
       "    </tr>\n",
       "  </thead>\n",
       "  <tbody>\n",
       "    <tr>\n",
       "      <th>0</th>\n",
       "      <td>310005222.png</td>\n",
       "      <td>0</td>\n",
       "    </tr>\n",
       "    <tr>\n",
       "      <th>1</th>\n",
       "      <td>350006023.png</td>\n",
       "      <td>0</td>\n",
       "    </tr>\n",
       "    <tr>\n",
       "      <th>2</th>\n",
       "      <td>340006081.png</td>\n",
       "      <td>0</td>\n",
       "    </tr>\n",
       "    <tr>\n",
       "      <th>3</th>\n",
       "      <td>310002301.png</td>\n",
       "      <td>0</td>\n",
       "    </tr>\n",
       "    <tr>\n",
       "      <th>4</th>\n",
       "      <td>370801111.png</td>\n",
       "      <td>1</td>\n",
       "    </tr>\n",
       "    <tr>\n",
       "      <th>...</th>\n",
       "      <td>...</td>\n",
       "      <td>...</td>\n",
       "    </tr>\n",
       "    <tr>\n",
       "      <th>2504</th>\n",
       "      <td>370713171.png</td>\n",
       "      <td>1</td>\n",
       "    </tr>\n",
       "    <tr>\n",
       "      <th>2505</th>\n",
       "      <td>320001441.png</td>\n",
       "      <td>0</td>\n",
       "    </tr>\n",
       "    <tr>\n",
       "      <th>2506</th>\n",
       "      <td>370413094.png</td>\n",
       "      <td>1</td>\n",
       "    </tr>\n",
       "    <tr>\n",
       "      <th>2507</th>\n",
       "      <td>371001133.png</td>\n",
       "      <td>0</td>\n",
       "    </tr>\n",
       "    <tr>\n",
       "      <th>2508</th>\n",
       "      <td>370306062.png</td>\n",
       "      <td>0</td>\n",
       "    </tr>\n",
       "  </tbody>\n",
       "</table>\n",
       "<p>2509 rows × 2 columns</p>\n",
       "</div>"
      ],
      "text/plain": [
       "              image  label\n",
       "0     310005222.png      0\n",
       "1     350006023.png      0\n",
       "2     340006081.png      0\n",
       "3     310002301.png      0\n",
       "4     370801111.png      1\n",
       "...             ...    ...\n",
       "2504  370713171.png      1\n",
       "2505  320001441.png      0\n",
       "2506  370413094.png      1\n",
       "2507  371001133.png      0\n",
       "2508  370306062.png      0\n",
       "\n",
       "[2509 rows x 2 columns]"
      ]
     },
     "execution_count": 4,
     "metadata": {},
     "output_type": "execute_result"
    }
   ],
   "source": [
    "validdf = pd.read_csv(\"./model/103_dev_1024.csv\") \n",
    "validdf"
   ]
  },
  {
   "cell_type": "code",
   "execution_count": 5,
   "metadata": {},
   "outputs": [
    {
     "name": "stdout",
     "output_type": "stream",
     "text": [
      "train pos: 5561\n",
      "train  neg: 4474\n",
      "sum:  10035\n"
     ]
    }
   ],
   "source": [
    "print('train pos:',len(traindf[traindf['label'] == 1]))\n",
    "print('train  neg:',len(traindf[traindf['label'] == 0]))\n",
    "print('sum: ',len(traindf[traindf['label'] == 1]) + len(traindf[traindf['label'] == 0]))"
   ]
  },
  {
   "cell_type": "markdown",
   "metadata": {},
   "source": [
    "# Pytorch model"
   ]
  },
  {
   "cell_type": "markdown",
   "metadata": {},
   "source": [
    "## Dataset"
   ]
  },
  {
   "cell_type": "code",
   "execution_count": 6,
   "metadata": {},
   "outputs": [],
   "source": [
    "composed = transforms.Compose([\n",
    "    transforms.Resize((256, 256)), #224\n",
    "    # transforms.RandomRotation(degrees=15),\n",
    "    # transforms.RandomHorizontalFlip(p=0.5),\n",
    "    transforms.ToTensor(),\n",
    "    # transforms.Normalize(mean=[0.485,0.456,0.406],std=[0.229,0.224,0.225]),\n",
    "])\n",
    "\n",
    "class C0_Data(Dataset):\n",
    "    def __init__(self, dataframe, transforms=None):\n",
    "        self.transforms = transforms\n",
    "        self.dataframe = dataframe\n",
    "\n",
    "    def __getitem__(self, idx):\n",
    "        image = self.dataframe['image'][idx]\n",
    "        label = self.dataframe['label'][idx]\n",
    "\n",
    "        img_path = os.path.join('./103_photo_all_256/', image)\n",
    "        img = Image.open(img_path) #.convert(\"RGB\").crop((xmin, ymin, xmax, ymax))\n",
    "\n",
    "        if self.transforms is not None:\n",
    "            img = self.transforms(img)\n",
    "\n",
    "        if label == 1:\n",
    "            y = torch.tensor(1)\n",
    "        else:\n",
    "            y = torch.tensor(0)\n",
    "    \n",
    "        return img, y\n",
    "\n",
    "    def __len__(self):\n",
    "        return len(self.dataframe)"
   ]
  },
  {
   "cell_type": "code",
   "execution_count": 7,
   "metadata": {},
   "outputs": [
    {
     "data": {
      "text/plain": [
       "10035"
      ]
     },
     "execution_count": 7,
     "metadata": {},
     "output_type": "execute_result"
    }
   ],
   "source": [
    "c0_dataset = C0_Data(traindf, composed)\n",
    "len(c0_dataset)"
   ]
  },
  {
   "cell_type": "code",
   "execution_count": 8,
   "metadata": {},
   "outputs": [],
   "source": [
    "composed_dev = transforms.Compose([\n",
    "    transforms.Resize((256, 256)), #224\n",
    "    # #transforms.RandomRotation(degrees=15),\n",
    "    # #transforms.RandomHorizontalFlip(p=0.5),\n",
    "    transforms.ToTensor(),\n",
    "    # transforms.Normalize(mean=[0.485,0.456,0.406],std=[0.229,0.224,0.225]),\n",
    "])\n",
    "\n",
    "class C0_Data_dev(Dataset):\n",
    "    def __init__(self, dataframe, transforms=None):\n",
    "        self.transforms = transforms\n",
    "        self.dataframe = dataframe\n",
    "\n",
    "    def __getitem__(self, idx):\n",
    "        image = self.dataframe['image'][idx]\n",
    "        label = self.dataframe['label'][idx]\n",
    "\n",
    "        img_path = os.path.join('./103_photo_all_256/', image)\n",
    "        img = Image.open(img_path) #.convert(\"RGB\").crop((xmin, ymin, xmax, ymax))\n",
    "\n",
    "        if self.transforms is not None:\n",
    "            img = self.transforms(img)\n",
    "\n",
    "        if label == 1:\n",
    "            y = torch.tensor(1)\n",
    "        else:\n",
    "            y = torch.tensor(0)\n",
    "    \n",
    "        return img, y\n",
    "\n",
    "    def __len__(self):\n",
    "        return len(self.dataframe)"
   ]
  },
  {
   "cell_type": "code",
   "execution_count": 9,
   "metadata": {},
   "outputs": [
    {
     "data": {
      "text/plain": [
       "2509"
      ]
     },
     "execution_count": 9,
     "metadata": {},
     "output_type": "execute_result"
    }
   ],
   "source": [
    "c0_dataset_dev = C0_Data_dev(validdf, composed_dev)\n",
    "len(c0_dataset_dev)"
   ]
  },
  {
   "cell_type": "code",
   "execution_count": 10,
   "metadata": {},
   "outputs": [],
   "source": [
    "train_loader = DataLoader(c0_dataset, batch_size=64, shuffle=True)\n",
    "test_loader = DataLoader(c0_dataset_dev, batch_size=512)"
   ]
  },
  {
   "cell_type": "markdown",
   "metadata": {},
   "source": [
    "## Model"
   ]
  },
  {
   "cell_type": "code",
   "execution_count": 11,
   "metadata": {},
   "outputs": [],
   "source": [
    "learning_rate = 1e-4   # 1e-2    # 学习率\n",
    "num_epoches = 10        # 遍历训练集的次数"
   ]
  },
  {
   "cell_type": "code",
   "execution_count": 12,
   "metadata": {},
   "outputs": [],
   "source": [
    "model = models.alexnet(pretrained=True)  #pretrained=True\n",
    "use_gpu = torch.cuda.is_available()  # 判断是否有GPU加速\n",
    "if use_gpu:\n",
    "    model = model.cuda()\n",
    "\n",
    "# 定义loss和optimizer\n",
    "criterion = nn.CrossEntropyLoss()\n",
    "optimizer = optim.SGD(model.parameters(), lr=learning_rate)"
   ]
  },
  {
   "cell_type": "markdown",
   "metadata": {},
   "source": [
    "## Training"
   ]
  },
  {
   "cell_type": "code",
   "execution_count": 13,
   "metadata": {},
   "outputs": [
    {
     "name": "stdout",
     "output_type": "stream",
     "text": [
      "epoch 1\n",
      "**********\n",
      "Finish 1 epoch, Loss: 2.161746, Acc: 0.416642\n"
     ]
    },
    {
     "name": "stderr",
     "output_type": "stream",
     "text": [
      "/tmp/ipykernel_253423/1819650182.py:40: UserWarning: volatile was removed and now has no effect. Use `with torch.no_grad():` instead.\n",
      "  img = Variable(img, volatile=True).cuda()\n",
      "/tmp/ipykernel_253423/1819650182.py:41: UserWarning: volatile was removed and now has no effect. Use `with torch.no_grad():` instead.\n",
      "  label = Variable(label, volatile=True).cuda()\n"
     ]
    },
    {
     "name": "stdout",
     "output_type": "stream",
     "text": [
      "Test Loss: 0.796796, Acc: 0.500199\n",
      "\n",
      "epoch 2\n",
      "**********\n",
      "Finish 2 epoch, Loss: 0.764770, Acc: 0.519083\n",
      "Test Loss: 0.737462, Acc: 0.529295\n",
      "\n",
      "epoch 3\n",
      "**********\n",
      "Finish 3 epoch, Loss: 0.737575, Acc: 0.526657\n",
      "Test Loss: 0.722554, Acc: 0.528099\n",
      "\n",
      "epoch 4\n",
      "**********\n",
      "Finish 4 epoch, Loss: 0.724999, Acc: 0.529148\n",
      "Test Loss: 0.714845, Acc: 0.524512\n",
      "\n",
      "epoch 5\n",
      "**********\n",
      "Finish 5 epoch, Loss: 0.718478, Acc: 0.531938\n",
      "Test Loss: 0.713562, Acc: 0.525309\n",
      "\n",
      "epoch 6\n",
      "**********\n",
      "Finish 6 epoch, Loss: 0.713034, Acc: 0.531938\n",
      "Test Loss: 0.705319, Acc: 0.535273\n",
      "\n",
      "epoch 7\n",
      "**********\n",
      "Finish 7 epoch, Loss: 0.708771, Acc: 0.533333\n",
      "Test Loss: 0.700223, Acc: 0.540853\n",
      "\n",
      "epoch 8\n",
      "**********\n",
      "Finish 8 epoch, Loss: 0.705478, Acc: 0.539711\n",
      "Test Loss: 0.698314, Acc: 0.540853\n",
      "\n",
      "epoch 9\n",
      "**********\n",
      "Finish 9 epoch, Loss: 0.702421, Acc: 0.538515\n",
      "Test Loss: 0.697197, Acc: 0.546831\n",
      "\n",
      "epoch 10\n",
      "**********\n",
      "Finish 10 epoch, Loss: 0.700613, Acc: 0.539512\n",
      "Test Loss: 0.694892, Acc: 0.548027\n",
      "\n"
     ]
    }
   ],
   "source": [
    "# 开始训练\n",
    "useful_stuff = {'train_cost':[], 'train_acc':[], 'valid_cost':[], 'valid_acc':[]}\n",
    "for epoch in range(num_epoches):\n",
    "    print('epoch {}'.format(epoch + 1))      # .format为输出格式，formet括号里的即为左边花括号的输出\n",
    "    print('*' * 10)\n",
    "    running_loss = 0.0\n",
    "    running_acc = 0.0\n",
    "    for i, data in enumerate(train_loader, 1):\n",
    "        img, label = data\n",
    "        # cuda\n",
    "        if use_gpu:\n",
    "            img = img.cuda()\n",
    "            label = label.cuda()\n",
    "        img = Variable(img)\n",
    "        label = Variable(label)\n",
    "        # 向前传播\n",
    "        out = model(img)\n",
    "        loss = criterion(out, label)\n",
    "#         print(loss) #test\n",
    "        running_loss += loss.item() * label.size(0)\n",
    "        _, pred = torch.max(out, 1)\n",
    "        num_correct = (pred == label).sum()\n",
    "        accuracy = (pred == label).float().mean()\n",
    "        running_acc += num_correct.item()\n",
    "        # 向后传播\n",
    "        optimizer.zero_grad()\n",
    "        loss.backward()\n",
    "        optimizer.step()\n",
    "\n",
    "    useful_stuff['train_cost'].append(running_loss / (len(c0_dataset)))\n",
    "    useful_stuff['train_acc'].append(running_acc / (len(c0_dataset)))    \n",
    "    print('Finish {} epoch, Loss: {:.6f}, Acc: {:.6f}'.format(\n",
    "        epoch + 1, running_loss / (len(c0_dataset)), running_acc / (len(c0_dataset))))\n",
    "    model.eval()\n",
    "    eval_loss = 0\n",
    "    eval_acc = 0\n",
    "    for data in test_loader:\n",
    "        img, label = data\n",
    "        if use_gpu:\n",
    "            img = Variable(img, volatile=True).cuda()\n",
    "            label = Variable(label, volatile=True).cuda()\n",
    "        else:\n",
    "            img = Variable(img, volatile=True)\n",
    "            label = Variable(label, volatile=True)\n",
    "        out = model(img)\n",
    "        loss = criterion(out, label)\n",
    "        eval_loss += loss.item() * label.size(0)\n",
    "        _, pred = torch.max(out, 1)\n",
    "        num_correct = (pred == label).sum()\n",
    "        eval_acc += num_correct.item()\n",
    "\n",
    "    useful_stuff['valid_cost'].append(eval_loss / (len(c0_dataset_dev)))\n",
    "    useful_stuff['valid_acc'].append(eval_acc / (len(c0_dataset_dev)))    \n",
    "    print('Test Loss: {:.6f}, Acc: {:.6f}'.format(eval_loss / (len(\n",
    "        c0_dataset_dev)), eval_acc / (len(c0_dataset_dev))))\n",
    "    print()\n",
    "    \n",
    "# 保存模型\n",
    "torch.save(model.state_dict(), './model/AlexNet.pth')"
   ]
  },
  {
   "cell_type": "markdown",
   "metadata": {},
   "source": [
    "# Learning curve"
   ]
  },
  {
   "cell_type": "code",
   "execution_count": 15,
   "metadata": {},
   "outputs": [
    {
     "data": {
      "image/png": "[encoded data removed]",
      "text/plain": [
       "<Figure size 432x288 with 1 Axes>"
      ]
     },
     "metadata": {
      "needs_background": "light"
     },
     "output_type": "display_data"
    },
    {
     "data": {
      "image/png": "[encoded data removed]",
      "text/plain": [
       "<Figure size 432x288 with 1 Axes>"
      ]
     },
     "metadata": {
      "needs_background": "light"
     },
     "output_type": "display_data"
    }
   ],
   "source": [
    "x_values1=np.arange(0, 10, 1)\n",
    "x_values2=np.arange(0, 10, 1)\n",
    "plt.plot(x_values1,useful_stuff['train_acc'], label = 'train')\n",
    "plt.plot(x_values2,useful_stuff['valid_acc'], label = 'dev')\n",
    "plt.ylabel('acc')\n",
    "plt.xlabel('epochs')\n",
    "plt.legend()\n",
    "plt.title('train / valid acc per iterations')\n",
    "axes = plt.gca()\n",
    "axes.set_ylim([0, 1])\n",
    "plt.grid()\n",
    "plt.show()\n",
    "\n",
    "plt.plot(x_values1,useful_stuff['train_cost'], label = 'train')\n",
    "plt.plot(x_values2,useful_stuff['valid_cost'], label = 'dev')\n",
    "plt.ylabel('loss')\n",
    "plt.xlabel('epochs')\n",
    "plt.legend()\n",
    "plt.title('train / valid loss per iterations')\n",
    "axes = plt.gca()\n",
    "axes.set_ylim([0, 3])\n",
    "plt.grid()\n",
    "plt.show()"
   ]
  },
  {
   "cell_type": "markdown",
   "metadata": {},
   "source": []
  },
  {
   "cell_type": "markdown",
   "metadata": {},
   "source": []
  }
 ],
 "metadata": {
  "kernelspec": {
   "display_name": "AI",
   "language": "python",
   "name": "ai"
  },
  "language_info": {
   "codemirror_mode": {
    "name": "ipython",
    "version": 3
   },
   "file_extension": ".py",
   "mimetype": "text/x-python",
   "name": "python",
   "nbconvert_exporter": "python",
   "pygments_lexer": "ipython3",
   "version": "3.8.0"
  }
 },
 "nbformat": 4,
 "nbformat_minor": 2
}
