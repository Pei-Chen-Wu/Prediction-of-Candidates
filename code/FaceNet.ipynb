{
 "cells": [
  {
   "cell_type": "markdown",
   "id": "946d296c",
   "metadata": {},
   "source": [
    "# 匯入FaceNet model"
   ]
  },
  {
   "cell_type": "code",
   "execution_count": 1,
   "id": "eb9095e7",
   "metadata": {},
   "outputs": [
    {
     "name": "stderr",
     "output_type": "stream",
     "text": [
      "2021-11-29 19:26:51.013409: W tensorflow/stream_executor/platform/default/dso_loader.cc:64] Could not load dynamic library 'libcudart.so.11.0'; dlerror: libcudart.so.11.0: cannot open shared object file: No such file or directory\n",
      "2021-11-29 19:26:51.013435: I tensorflow/stream_executor/cuda/cudart_stub.cc:29] Ignore above cudart dlerror if you do not have a GPU set up on your machine.\n",
      "2021-11-29 19:26:54.510610: W tensorflow/stream_executor/platform/default/dso_loader.cc:64] Could not load dynamic library 'libcuda.so.1'; dlerror: libcuda.so.1: cannot open shared object file: No such file or directory\n",
      "2021-11-29 19:26:54.510648: W tensorflow/stream_executor/cuda/cuda_driver.cc:269] failed call to cuInit: UNKNOWN ERROR (303)\n",
      "2021-11-29 19:26:54.510675: I tensorflow/stream_executor/cuda/cuda_diagnostics.cc:156] kernel driver does not appear to be running on this host (cocoIsGood): /proc/driver/nvidia/version does not exist\n",
      "2021-11-29 19:26:54.510859: I tensorflow/core/platform/cpu_feature_guard.cc:151] This TensorFlow binary is optimized with oneAPI Deep Neural Network Library (oneDNN) to use the following CPU instructions in performance-critical operations:  AVX2 FMA\n",
      "To enable them in other operations, rebuild TensorFlow with the appropriate compiler flags.\n"
     ]
    },
    {
     "name": "stdout",
     "output_type": "stream",
     "text": [
      "WARNING:tensorflow:No training configuration found in the save file, so the model was *not* compiled. Compile it manually.\n",
      "[<KerasTensor: shape=(None, 160, 160, 3) dtype=float32 (created by layer 'input_1')>]\n",
      "[<KerasTensor: shape=(None, 128) dtype=float32 (created by layer 'Bottleneck_BatchNorm')>]\n"
     ]
    }
   ],
   "source": [
    "# example of loading the keras facenet model\n",
    "from keras.models import load_model\n",
    "# import facenet_keras\n",
    "# model = facenet_keras.facenet()\n",
    "# load the model\n",
    "model  =  load_model('facenet_keras.h5')\n",
    "# summarize input and output shape\n",
    "print(model.inputs)\n",
    "print(model.outputs)"
   ]
  },
  {
   "cell_type": "markdown",
   "id": "4f4986c7",
   "metadata": {},
   "source": [
    "## 確認mtcnn版本"
   ]
  },
  {
   "cell_type": "code",
   "execution_count": 2,
   "id": "3ae0dfb3",
   "metadata": {},
   "outputs": [
    {
     "name": "stdout",
     "output_type": "stream",
     "text": [
      "0.1.0\n"
     ]
    }
   ],
   "source": [
    "# confirm mtcnn was installed correctly\n",
    "import mtcnn\n",
    "# print version\n",
    "print(mtcnn.__version__)"
   ]
  },
  {
   "cell_type": "markdown",
   "id": "e16323b2",
   "metadata": {},
   "source": [
    "# 檢測人臉"
   ]
  },
  {
   "cell_type": "code",
   "execution_count": 3,
   "id": "9304db72",
   "metadata": {},
   "outputs": [],
   "source": [
    "# face detection for the 5 Celebrity Faces Dataset\n",
    "from os import listdir\n",
    "from os.path import isdir\n",
    "from PIL import Image\n",
    "from matplotlib import pyplot\n",
    "from numpy import savez_compressed\n",
    "from numpy import asarray\n",
    "from mtcnn.mtcnn import MTCNN\n",
    "\n",
    "# extract a single face from a given photograph\n",
    "def extract_face(filename,  required_size=(160,  160)):\n",
    "    # load image from file\n",
    "    image  =  Image.open(filename)\n",
    "    # convert to RGB, if needed\n",
    "    image  =  image.convert('RGB')\n",
    "    # convert to array\n",
    "    pixels  =  asarray(image)\n",
    "    # create the detector, using default weights\n",
    "    detector  =  MTCNN()\n",
    "    # detect faces in the image\n",
    "    results  =  detector.detect_faces(pixels)\n",
    "    # extract the bounding box from the first face\n",
    "    x1, y1, width, height = results[0]['box']\n",
    "    # bug fix\n",
    "    x1,  y1  =  abs(x1),  abs(y1)\n",
    "    x2,  y2  =  x1  +  width,  y1  +  height\n",
    "    # extract the face\n",
    "    face  =  pixels[y1:y2,  x1:x2]\n",
    "    # resize pixels to the model size\n",
    "    image  =  Image.fromarray(face)\n",
    "    image  =  image.resize(required_size)\n",
    "    face_array  =  asarray(image)\n",
    "    return  face_array\n",
    "\n",
    "# load images and extract faces for all images in a directory\n",
    "def load_faces(directory):\n",
    "    faces  =  list()\n",
    "    # enumerate files\n",
    "    for  filename in  listdir(directory):\n",
    "        # path\n",
    "        path  =  directory  +  filename\n",
    "        # get face\n",
    "        face  =  extract_face(path)\n",
    "        # store\n",
    "        faces.append(face)\n",
    "    return  faces\n",
    "\n",
    "# load a dataset that contains one subdir for each class that in turn contains images\n",
    "def load_dataset(directory):\n",
    "    X,  y  =  list(),  list()\n",
    "    # enumerate folders, on per class\n",
    "    for  subdir in  listdir(directory):\n",
    "        # path\n",
    "        path  =  directory  +  subdir  +  '/'\n",
    "        # skip any files that might be in the dir\n",
    "        if  not  isdir(path):\n",
    "            continue\n",
    "        # load all faces in the subdirectory\n",
    "        faces  =  load_faces(path)\n",
    "        # create labels\n",
    "        labels  =  [subdir for  _  in  range(len(faces))]\n",
    "        # summarize progress\n",
    "        print('>loaded %d examples for class: %s'  %  (len(faces),  subdir))\n",
    "        # store\n",
    "        X.extend(faces)\n",
    "        y.extend(labels)\n",
    "    return  asarray(X),  asarray(y)"
   ]
  },
  {
   "cell_type": "markdown",
   "id": "5f6f9699",
   "metadata": {},
   "source": [
    "## dataset 改為 1,0兩分類"
   ]
  },
  {
   "cell_type": "code",
   "execution_count": 4,
   "id": "d2e884bd",
   "metadata": {},
   "outputs": [
    {
     "name": "stdout",
     "output_type": "stream",
     "text": [
      "WARNING:tensorflow:5 out of the last 12 calls to <function Model.make_predict_function.<locals>.predict_function at 0x7fb4e80f0d40> triggered tf.function retracing. Tracing is expensive and the excessive number of tracings could be due to (1) creating @tf.function repeatedly in a loop, (2) passing tensors with different shapes, (3) passing Python objects instead of tensors. For (1), please define your @tf.function outside of the loop. For (2), @tf.function has experimental_relax_shapes=True option that relaxes argument shapes that can avoid unnecessary retracing. For (3), please refer to https://www.tensorflow.org/guide/function#controlling_retracing and https://www.tensorflow.org/api_docs/python/tf/function for  more details.\n",
      "WARNING:tensorflow:6 out of the last 13 calls to <function Model.make_predict_function.<locals>.predict_function at 0x7fb4e80f0d40> triggered tf.function retracing. Tracing is expensive and the excessive number of tracings could be due to (1) creating @tf.function repeatedly in a loop, (2) passing tensors with different shapes, (3) passing Python objects instead of tensors. For (1), please define your @tf.function outside of the loop. For (2), @tf.function has experimental_relax_shapes=True option that relaxes argument shapes that can avoid unnecessary retracing. For (3), please refer to https://www.tensorflow.org/guide/function#controlling_retracing and https://www.tensorflow.org/api_docs/python/tf/function for  more details.\n",
      ">loaded 17 examples for class: elton_john\n",
      ">loaded 21 examples for class: jerry_seinfeld\n",
      ">loaded 14 examples for class: ben_afflek\n",
      ">loaded 19 examples for class: madonna\n",
      ">loaded 22 examples for class: mindy_kaling\n",
      "(93, 160, 160, 3) (93,)\n",
      ">loaded 5 examples for class: elton_john\n",
      ">loaded 5 examples for class: jerry_seinfeld\n",
      ">loaded 5 examples for class: ben_afflek\n",
      ">loaded 5 examples for class: madonna\n",
      ">loaded 5 examples for class: mindy_kaling\n"
     ]
    }
   ],
   "source": [
    "# load train dataset\n",
    "trainX,  trainy  =  load_dataset('./archive/train/') \n",
    "print(trainX.shape,  trainy.shape)\n",
    "# load test dataset\n",
    "testX,  testy  =  load_dataset('./archive/val/')\n",
    "# save arrays to one file in compressed format\n",
    "savez_compressed('./5-celebrity-faces-dataset.npz',  trainX,  trainy,  testX,  testy)"
   ]
  },
  {
   "cell_type": "markdown",
   "id": "5a3ca533",
   "metadata": {},
   "source": [
    "# 創建人臉嵌入"
   ]
  },
  {
   "cell_type": "code",
   "execution_count": 5,
   "id": "6d8b0e59",
   "metadata": {},
   "outputs": [],
   "source": [
    "from numpy import load\n",
    "from numpy import expand_dims\n",
    "from numpy import asarray\n",
    "from numpy import savez_compressed\n",
    "from keras.models import load_model\n",
    "\n",
    "# get the face embedding for one face\n",
    "def get_embedding(model,  face_pixels):\n",
    "    # scale pixel values\n",
    "    face_pixels  =  face_pixels.astype('float32')\n",
    "    # standardize pixel values across channels (global)\n",
    "    mean,  std  =  face_pixels.mean(),  face_pixels.std()\n",
    "    face_pixels  =  (face_pixels  -  mean)  /  std\n",
    "    # transform face into one sample\n",
    "    samples  =  expand_dims(face_pixels,  axis=0)\n",
    "    # make prediction to get embedding\n",
    "    yhat  =  model.predict(samples)\n",
    "    return  yhat[0]"
   ]
  },
  {
   "cell_type": "markdown",
   "id": "ce399bb3",
   "metadata": {},
   "source": [
    "## dataset.npz匯入 跑model"
   ]
  },
  {
   "cell_type": "code",
   "execution_count": 6,
   "id": "00086802",
   "metadata": {},
   "outputs": [
    {
     "name": "stdout",
     "output_type": "stream",
     "text": [
      "Loaded:  (93, 160, 160, 3) (93,) (25, 160, 160, 3) (25,)\n",
      "WARNING:tensorflow:No training configuration found in the save file, so the model was *not* compiled. Compile it manually.\n",
      "Loaded Model\n",
      "(93, 128)\n",
      "(25, 128)\n"
     ]
    }
   ],
   "source": [
    "# load the face dataset\n",
    "data  =  load('./5-celebrity-faces-dataset.npz')\n",
    "trainX,  trainy,  testX,  testy  =  data['arr_0'],  data['arr_1'],  data['arr_2'],  data['arr_3']\n",
    "print('Loaded: ',  trainX.shape,  trainy.shape,  testX.shape,  testy.shape)\n",
    "# load the facenet model\n",
    "model  =  load_model('./facenet_keras.h5')\n",
    "print('Loaded Model')\n",
    "# convert each face in the train set to an embedding\n",
    "newTrainX  =  list()\n",
    "for  face_pixels in  trainX:\n",
    "    embedding  =  get_embedding(model,  face_pixels)\n",
    "    newTrainX.append(embedding)\n",
    "newTrainX  =  asarray(newTrainX)\n",
    "print(newTrainX.shape)\n",
    "# convert each face in the test set to an embedding\n",
    "newTestX  =  list()\n",
    "for  face_pixels in  testX:\n",
    "    embedding  =  get_embedding(model,  face_pixels)\n",
    "    newTestX.append(embedding)\n",
    "newTestX  =  asarray(newTestX)\n",
    "print(newTestX.shape)\n",
    "# save arrays to one file in compressed format\n",
    "savez_compressed('./5-celebrity-faces-embeddings.npz',  newTrainX,  trainy,  newTestX,  testy)"
   ]
  },
  {
   "cell_type": "markdown",
   "id": "dc3c7991",
   "metadata": {},
   "source": [
    "# 執行人臉分類"
   ]
  },
  {
   "cell_type": "code",
   "execution_count": 7,
   "id": "207b14ec",
   "metadata": {},
   "outputs": [
    {
     "name": "stdout",
     "output_type": "stream",
     "text": [
      "Dataset: train=93, test=25\n",
      "Accuracy: train=100.000, test=100.000\n"
     ]
    }
   ],
   "source": [
    "from numpy import load\n",
    "from sklearn.metrics import accuracy_score\n",
    "from sklearn.preprocessing import LabelEncoder\n",
    "from sklearn.preprocessing import Normalizer\n",
    "from sklearn.svm import SVC\n",
    "# load dataset\n",
    "data  =  load('./5-celebrity-faces-embeddings.npz')\n",
    "trainX,  trainy,  testX,  testy  =  data['arr_0'],  data['arr_1'],  data['arr_2'],  data['arr_3']\n",
    "print('Dataset: train=%d, test=%d'  %  (trainX.shape[0],  testX.shape[0]))\n",
    "# normalize input vectors\n",
    "in_encoder  =  Normalizer(norm='l2')\n",
    "trainX  =  in_encoder.transform(trainX)\n",
    "testX  =  in_encoder.transform(testX)\n",
    "# label encode targets\n",
    "out_encoder  =  LabelEncoder()\n",
    "out_encoder.fit(trainy)\n",
    "trainy  =  out_encoder.transform(trainy)\n",
    "testy  =  out_encoder.transform(testy)\n",
    "# fit model\n",
    "model  =  SVC(kernel='linear',  probability=True)\n",
    "model.fit(trainX,  trainy)\n",
    "# predict\n",
    "yhat_train  =  model.predict(trainX)\n",
    "yhat_test  =  model.predict(testX)\n",
    "# score\n",
    "score_train  =  accuracy_score(trainy,  yhat_train)\n",
    "score_test  =  accuracy_score(testy,  yhat_test)\n",
    "# summarize\n",
    "print('Accuracy: train=%.3f, test=%.3f'  %  (score_train*100,  score_test*100))"
   ]
  },
  {
   "cell_type": "markdown",
   "id": "a964663b",
   "metadata": {},
   "source": [
    "# 繪製原始人臉和預測"
   ]
  },
  {
   "cell_type": "code",
   "execution_count": 15,
   "id": "d51bf574",
   "metadata": {},
   "outputs": [
    {
     "name": "stdout",
     "output_type": "stream",
     "text": [
      "Predicted: jerry_seinfeld (89.272)\n",
      "Expected: jerry_seinfeld\n"
     ]
    },
    {
     "data": {
      "image/png": "[encoded data removed]",
      "text/plain": [
       "<Figure size 432x288 with 1 Axes>"
      ]
     },
     "metadata": {
      "needs_background": "light"
     },
     "output_type": "display_data"
    }
   ],
   "source": [
    "from random import choice\n",
    "from numpy import load\n",
    "from numpy import expand_dims\n",
    "from sklearn.preprocessing import LabelEncoder\n",
    "from sklearn.preprocessing import Normalizer\n",
    "from sklearn.svm import SVC\n",
    "from matplotlib import pyplot\n",
    "# load faces\n",
    "data  =  load('./5-celebrity-faces-dataset.npz')\n",
    "testX_faces  =  data['arr_2']\n",
    "# load face embeddings\n",
    "data  =  load('./5-celebrity-faces-embeddings.npz')\n",
    "trainX,  trainy,  testX,  testy  =  data['arr_0'],  data['arr_1'],  data['arr_2'],  data['arr_3']\n",
    "# normalize input vectors\n",
    "in_encoder  =  Normalizer(norm='l2')\n",
    "trainX  =  in_encoder.transform(trainX)\n",
    "testX  =  in_encoder.transform(testX)\n",
    "# label encode targets\n",
    "out_encoder  =  LabelEncoder()\n",
    "out_encoder.fit(trainy)\n",
    "trainy  =  out_encoder.transform(trainy)\n",
    "testy  =  out_encoder.transform(testy)\n",
    "# fit model\n",
    "model  =  SVC(kernel='linear',  probability=True)\n",
    "model.fit(trainX,  trainy)\n",
    "# test model on a random example from the test dataset\n",
    "selection  =  choice([i  for  i  in  range(testX.shape[0])])\n",
    "random_face_pixels  =  testX_faces[selection]\n",
    "random_face_emb  =  testX[selection]\n",
    "random_face_class  =  testy[selection]\n",
    "random_face_name  =  out_encoder.inverse_transform([random_face_class])\n",
    "# prediction for the face\n",
    "samples  =  expand_dims(random_face_emb,  axis=0)\n",
    "yhat_class  =  model.predict(samples)\n",
    "yhat_prob  =  model.predict_proba(samples)\n",
    "# get name\n",
    "class_index  =  yhat_class[0]\n",
    "class_probability  =  yhat_prob[0,class_index]  *  100\n",
    "predict_names  =  out_encoder.inverse_transform(yhat_class)\n",
    "print('Predicted: %s (%.3f)'  %  (predict_names[0],  class_probability))\n",
    "print('Expected: %s'  %  random_face_name[0])\n",
    "# plot for fun\n",
    "pyplot.imshow(random_face_pixels)\n",
    "title  =  '%s (%.3f)'  %  (predict_names[0],  class_probability)\n",
    "pyplot.title(title)\n",
    "pyplot.show()"
   ]
  },
  {
   "cell_type": "markdown",
   "id": "854370b7",
   "metadata": {},
   "source": [
    "# 版本"
   ]
  },
  {
   "cell_type": "code",
   "execution_count": 9,
   "id": "e268f386",
   "metadata": {},
   "outputs": [
    {
     "name": "stdout",
     "output_type": "stream",
     "text": [
      "Python version\n",
      "3.7.12 (default, Sep 10 2021, 00:20:04) \n",
      "[GCC 9.3.0]\n",
      "Version info.\n",
      "sys.version_info(major=3, minor=7, micro=12, releaselevel='final', serial=0)\n"
     ]
    }
   ],
   "source": [
    "import sys\n",
    "print(\"Python version\")\n",
    "print (sys.version)\n",
    "print(\"Version info.\")\n",
    "print (sys.version_info)"
   ]
  },
  {
   "cell_type": "code",
   "execution_count": 18,
   "id": "219ec6f9",
   "metadata": {},
   "outputs": [
    {
     "data": {
      "text/plain": [
       "93"
      ]
     },
     "execution_count": 18,
     "metadata": {},
     "output_type": "execute_result"
    }
   ],
   "source": [
    "len(newTrainX)"
   ]
  },
  {
   "cell_type": "code",
   "execution_count": 19,
   "id": "7577dfc6",
   "metadata": {},
   "outputs": [
    {
     "data": {
      "text/plain": [
       "array([[ 0.83809805,  1.2204304 , -1.5851601 , ..., -0.22606471,\n",
       "         0.5016964 , -0.03834889],\n",
       "       [-1.1835551 , -0.2713523 , -2.1991603 , ..., -2.9651957 ,\n",
       "         0.6569192 ,  2.7057748 ],\n",
       "       [-1.3234568 , -1.133955  , -0.69706744, ..., -1.4861144 ,\n",
       "         0.27928597,  2.4520953 ],\n",
       "       ...,\n",
       "       [ 0.19074044,  0.68278563, -0.42702985, ...,  2.3409336 ,\n",
       "         0.5972798 , -2.2478344 ],\n",
       "       [-0.047719  , -0.1345042 ,  0.42043373, ...,  0.42278805,\n",
       "         1.0732008 , -1.2775187 ],\n",
       "       [ 1.2530017 , -0.00298112,  0.37763542, ...,  1.207524  ,\n",
       "         0.7253575 , -0.9306759 ]], dtype=float32)"
      ]
     },
     "execution_count": 19,
     "metadata": {},
     "output_type": "execute_result"
    }
   ],
   "source": [
    "newTrainX"
   ]
  },
  {
   "cell_type": "code",
   "execution_count": 11,
   "id": "bcdc9745",
   "metadata": {},
   "outputs": [
    {
     "data": {
      "text/plain": [
       "array([[-1.2777163 , -0.7231866 , -1.1328063 , ..., -2.02433   ,\n",
       "         1.7402275 ,  1.2539915 ],\n",
       "       [-0.44442257, -1.5055695 , -0.92893344, ..., -2.4234107 ,\n",
       "         0.03635266,  0.7831872 ],\n",
       "       [-1.1538168 ,  0.5128952 , -1.208432  , ..., -3.2265851 ,\n",
       "         0.37068087,  2.354204  ],\n",
       "       ...,\n",
       "       [ 0.5581642 , -1.0386927 ,  0.2877702 , ...,  0.570183  ,\n",
       "        -0.89292693, -0.41056398],\n",
       "       [ 0.62363875,  0.12740709,  0.5318558 , ...,  0.87907195,\n",
       "         0.67547274, -1.5649484 ],\n",
       "       [ 0.2138499 , -0.29231024,  0.89129746, ...,  0.8904548 ,\n",
       "         0.0374557 , -1.9185741 ]], dtype=float32)"
      ]
     },
     "execution_count": 11,
     "metadata": {},
     "output_type": "execute_result"
    }
   ],
   "source": [
    "newTestX"
   ]
  },
  {
   "cell_type": "code",
   "execution_count": null,
   "id": "6a9a08b7",
   "metadata": {},
   "outputs": [],
   "source": []
  }
 ],
 "metadata": {
  "kernelspec": {
   "display_name": "Facenet",
   "language": "python",
   "name": "facenet"
  },
  "language_info": {
   "codemirror_mode": {
    "name": "ipython",
    "version": 3
   },
   "file_extension": ".py",
   "mimetype": "text/x-python",
   "name": "python",
   "nbconvert_exporter": "python",
   "pygments_lexer": "ipython3",
   "version": "3.7.12"
  }
 },
 "nbformat": 4,
 "nbformat_minor": 5
}
