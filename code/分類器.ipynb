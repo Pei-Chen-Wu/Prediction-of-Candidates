{
 "cells": [
  {
   "cell_type": "markdown",
   "id": "c00cda21",
   "metadata": {},
   "source": [
    "# SVM"
   ]
  },
  {
   "cell_type": "markdown",
   "id": "76606010",
   "metadata": {},
   "source": [
    "## all"
   ]
  },
  {
   "cell_type": "code",
   "execution_count": 1,
   "id": "bc676821",
   "metadata": {},
   "outputs": [
    {
     "data": {
      "text/html": [
       "<div>\n",
       "<style scoped>\n",
       "    .dataframe tbody tr th:only-of-type {\n",
       "        vertical-align: middle;\n",
       "    }\n",
       "\n",
       "    .dataframe tbody tr th {\n",
       "        vertical-align: top;\n",
       "    }\n",
       "\n",
       "    .dataframe thead th {\n",
       "        text-align: right;\n",
       "    }\n",
       "</style>\n",
       "<table border=\"1\" class=\"dataframe\">\n",
       "  <thead>\n",
       "    <tr style=\"text-align: right;\">\n",
       "      <th></th>\n",
       "      <th>Number</th>\n",
       "      <th>Gender</th>\n",
       "      <th>PartyMembership</th>\n",
       "      <th>Elected note</th>\n",
       "      <th>continue or not</th>\n",
       "      <th>Age</th>\n",
       "    </tr>\n",
       "  </thead>\n",
       "  <tbody>\n",
       "    <tr>\n",
       "      <th>0</th>\n",
       "      <td>1</td>\n",
       "      <td>1</td>\n",
       "      <td>1</td>\n",
       "      <td>1</td>\n",
       "      <td>0</td>\n",
       "      <td>2.0</td>\n",
       "    </tr>\n",
       "    <tr>\n",
       "      <th>1</th>\n",
       "      <td>2</td>\n",
       "      <td>0</td>\n",
       "      <td>1</td>\n",
       "      <td>0</td>\n",
       "      <td>0</td>\n",
       "      <td>1.0</td>\n",
       "    </tr>\n",
       "    <tr>\n",
       "      <th>2</th>\n",
       "      <td>1</td>\n",
       "      <td>1</td>\n",
       "      <td>0</td>\n",
       "      <td>0</td>\n",
       "      <td>0</td>\n",
       "      <td>1.0</td>\n",
       "    </tr>\n",
       "    <tr>\n",
       "      <th>3</th>\n",
       "      <td>2</td>\n",
       "      <td>0</td>\n",
       "      <td>1</td>\n",
       "      <td>1</td>\n",
       "      <td>0</td>\n",
       "      <td>2.0</td>\n",
       "    </tr>\n",
       "    <tr>\n",
       "      <th>4</th>\n",
       "      <td>1</td>\n",
       "      <td>1</td>\n",
       "      <td>1</td>\n",
       "      <td>1</td>\n",
       "      <td>1</td>\n",
       "      <td>1.0</td>\n",
       "    </tr>\n",
       "    <tr>\n",
       "      <th>...</th>\n",
       "      <td>...</td>\n",
       "      <td>...</td>\n",
       "      <td>...</td>\n",
       "      <td>...</td>\n",
       "      <td>...</td>\n",
       "      <td>...</td>\n",
       "    </tr>\n",
       "    <tr>\n",
       "      <th>7245</th>\n",
       "      <td>2</td>\n",
       "      <td>1</td>\n",
       "      <td>0</td>\n",
       "      <td>1</td>\n",
       "      <td>0</td>\n",
       "      <td>2.0</td>\n",
       "    </tr>\n",
       "    <tr>\n",
       "      <th>7246</th>\n",
       "      <td>1</td>\n",
       "      <td>1</td>\n",
       "      <td>0</td>\n",
       "      <td>0</td>\n",
       "      <td>0</td>\n",
       "      <td>2.0</td>\n",
       "    </tr>\n",
       "    <tr>\n",
       "      <th>7247</th>\n",
       "      <td>2</td>\n",
       "      <td>1</td>\n",
       "      <td>0</td>\n",
       "      <td>1</td>\n",
       "      <td>1</td>\n",
       "      <td>1.0</td>\n",
       "    </tr>\n",
       "    <tr>\n",
       "      <th>7248</th>\n",
       "      <td>1</td>\n",
       "      <td>1</td>\n",
       "      <td>0</td>\n",
       "      <td>0</td>\n",
       "      <td>1</td>\n",
       "      <td>1.0</td>\n",
       "    </tr>\n",
       "    <tr>\n",
       "      <th>7249</th>\n",
       "      <td>2</td>\n",
       "      <td>1</td>\n",
       "      <td>0</td>\n",
       "      <td>1</td>\n",
       "      <td>0</td>\n",
       "      <td>2.0</td>\n",
       "    </tr>\n",
       "  </tbody>\n",
       "</table>\n",
       "<p>7250 rows × 6 columns</p>\n",
       "</div>"
      ],
      "text/plain": [
       "      Number  Gender  PartyMembership  Elected note  continue or not  Age\n",
       "0          1       1                1             1                0  2.0\n",
       "1          2       0                1             0                0  1.0\n",
       "2          1       1                0             0                0  1.0\n",
       "3          2       0                1             1                0  2.0\n",
       "4          1       1                1             1                1  1.0\n",
       "...      ...     ...              ...           ...              ...  ...\n",
       "7245       2       1                0             1                0  2.0\n",
       "7246       1       1                0             0                0  2.0\n",
       "7247       2       1                0             1                1  1.0\n",
       "7248       1       1                0             0                1  1.0\n",
       "7249       2       1                0             1                0  2.0\n",
       "\n",
       "[7250 rows x 6 columns]"
      ]
     },
     "execution_count": 1,
     "metadata": {},
     "output_type": "execute_result"
    }
   ],
   "source": [
    "import pandas as pd \n",
    "df = pd.read_csv(\"107factor.csv\")\n",
    "df"
   ]
  },
  {
   "cell_type": "code",
   "execution_count": 2,
   "id": "b7c78f3f",
   "metadata": {},
   "outputs": [
    {
     "data": {
      "text/html": [
       "<div>\n",
       "<style scoped>\n",
       "    .dataframe tbody tr th:only-of-type {\n",
       "        vertical-align: middle;\n",
       "    }\n",
       "\n",
       "    .dataframe tbody tr th {\n",
       "        vertical-align: top;\n",
       "    }\n",
       "\n",
       "    .dataframe thead th {\n",
       "        text-align: right;\n",
       "    }\n",
       "</style>\n",
       "<table border=\"1\" class=\"dataframe\">\n",
       "  <thead>\n",
       "    <tr style=\"text-align: right;\">\n",
       "      <th></th>\n",
       "      <th>Number</th>\n",
       "      <th>Gender</th>\n",
       "      <th>PartyMembership</th>\n",
       "      <th>continue or not</th>\n",
       "      <th>Age</th>\n",
       "    </tr>\n",
       "  </thead>\n",
       "  <tbody>\n",
       "    <tr>\n",
       "      <th>0</th>\n",
       "      <td>1</td>\n",
       "      <td>1</td>\n",
       "      <td>1</td>\n",
       "      <td>0</td>\n",
       "      <td>2.0</td>\n",
       "    </tr>\n",
       "    <tr>\n",
       "      <th>1</th>\n",
       "      <td>2</td>\n",
       "      <td>0</td>\n",
       "      <td>1</td>\n",
       "      <td>0</td>\n",
       "      <td>1.0</td>\n",
       "    </tr>\n",
       "    <tr>\n",
       "      <th>2</th>\n",
       "      <td>1</td>\n",
       "      <td>1</td>\n",
       "      <td>0</td>\n",
       "      <td>0</td>\n",
       "      <td>1.0</td>\n",
       "    </tr>\n",
       "    <tr>\n",
       "      <th>3</th>\n",
       "      <td>2</td>\n",
       "      <td>0</td>\n",
       "      <td>1</td>\n",
       "      <td>0</td>\n",
       "      <td>2.0</td>\n",
       "    </tr>\n",
       "    <tr>\n",
       "      <th>4</th>\n",
       "      <td>1</td>\n",
       "      <td>1</td>\n",
       "      <td>1</td>\n",
       "      <td>1</td>\n",
       "      <td>1.0</td>\n",
       "    </tr>\n",
       "    <tr>\n",
       "      <th>...</th>\n",
       "      <td>...</td>\n",
       "      <td>...</td>\n",
       "      <td>...</td>\n",
       "      <td>...</td>\n",
       "      <td>...</td>\n",
       "    </tr>\n",
       "    <tr>\n",
       "      <th>7245</th>\n",
       "      <td>2</td>\n",
       "      <td>1</td>\n",
       "      <td>0</td>\n",
       "      <td>0</td>\n",
       "      <td>2.0</td>\n",
       "    </tr>\n",
       "    <tr>\n",
       "      <th>7246</th>\n",
       "      <td>1</td>\n",
       "      <td>1</td>\n",
       "      <td>0</td>\n",
       "      <td>0</td>\n",
       "      <td>2.0</td>\n",
       "    </tr>\n",
       "    <tr>\n",
       "      <th>7247</th>\n",
       "      <td>2</td>\n",
       "      <td>1</td>\n",
       "      <td>0</td>\n",
       "      <td>1</td>\n",
       "      <td>1.0</td>\n",
       "    </tr>\n",
       "    <tr>\n",
       "      <th>7248</th>\n",
       "      <td>1</td>\n",
       "      <td>1</td>\n",
       "      <td>0</td>\n",
       "      <td>1</td>\n",
       "      <td>1.0</td>\n",
       "    </tr>\n",
       "    <tr>\n",
       "      <th>7249</th>\n",
       "      <td>2</td>\n",
       "      <td>1</td>\n",
       "      <td>0</td>\n",
       "      <td>0</td>\n",
       "      <td>2.0</td>\n",
       "    </tr>\n",
       "  </tbody>\n",
       "</table>\n",
       "<p>7250 rows × 5 columns</p>\n",
       "</div>"
      ],
      "text/plain": [
       "      Number  Gender  PartyMembership  continue or not  Age\n",
       "0          1       1                1                0  2.0\n",
       "1          2       0                1                0  1.0\n",
       "2          1       1                0                0  1.0\n",
       "3          2       0                1                0  2.0\n",
       "4          1       1                1                1  1.0\n",
       "...      ...     ...              ...              ...  ...\n",
       "7245       2       1                0                0  2.0\n",
       "7246       1       1                0                0  2.0\n",
       "7247       2       1                0                1  1.0\n",
       "7248       1       1                0                1  1.0\n",
       "7249       2       1                0                0  2.0\n",
       "\n",
       "[7250 rows x 5 columns]"
      ]
     },
     "execution_count": 2,
     "metadata": {},
     "output_type": "execute_result"
    }
   ],
   "source": [
    "df1 = df[['Number','Gender','PartyMembership','continue or not','Age']]\n",
    "df1"
   ]
  },
  {
   "cell_type": "code",
   "execution_count": 3,
   "id": "7cbfbbb5",
   "metadata": {},
   "outputs": [],
   "source": [
    "#將資料分成訓練組及測試組\n",
    "from sklearn.model_selection import train_test_split\n",
    "\n",
    "X = df1\n",
    "y = df['Elected note']\n",
    "X_train, X_test, y_train, y_test = train_test_split(X,y,test_size=0.2,random_state=101)"
   ]
  },
  {
   "cell_type": "code",
   "execution_count": 4,
   "id": "afc785db",
   "metadata": {},
   "outputs": [],
   "source": [
    "#載入Support Vector Classifier套件\n",
    "from sklearn.svm import SVC\n",
    "model = SVC()"
   ]
  },
  {
   "cell_type": "code",
   "execution_count": 5,
   "id": "16a714f1",
   "metadata": {},
   "outputs": [
    {
     "data": {
      "text/plain": [
       "SVC()"
      ]
     },
     "execution_count": 5,
     "metadata": {},
     "output_type": "execute_result"
    }
   ],
   "source": [
    "#使用Support Vector Classifier來建立模型\n",
    "model.fit(X_train,y_train)"
   ]
  },
  {
   "cell_type": "code",
   "execution_count": 6,
   "id": "c5310f06",
   "metadata": {},
   "outputs": [],
   "source": [
    "#利用測試組資料來測試模型結果\n",
    "predictions = model.predict(X_test)"
   ]
  },
  {
   "cell_type": "code",
   "execution_count": 7,
   "id": "76a861f4",
   "metadata": {},
   "outputs": [
    {
     "name": "stdout",
     "output_type": "stream",
     "text": [
      "[[550 183]\n",
      " [255 462]]\n",
      "\n",
      "\n",
      "              precision    recall  f1-score   support\n",
      "\n",
      "           0       0.68      0.75      0.72       733\n",
      "           1       0.72      0.64      0.68       717\n",
      "\n",
      "    accuracy                           0.70      1450\n",
      "   macro avg       0.70      0.70      0.70      1450\n",
      "weighted avg       0.70      0.70      0.70      1450\n",
      "\n"
     ]
    }
   ],
   "source": [
    "#載入classification report & confusion matrix\n",
    "from sklearn.metrics import classification_report, confusion_matrix\n",
    "print(confusion_matrix(y_test,predictions))\n",
    "print('\\n')\n",
    "print(classification_report(y_test,predictions))"
   ]
  },
  {
   "cell_type": "markdown",
   "id": "82c487ac",
   "metadata": {},
   "source": [
    "分類結果都只出現在特定的類別，所以要修正模型。剛在跑model.fit(X_train,y_train)時，有看到輸出結果中有許多參數可以修改，像是C及ga"
   ]
  },
  {
   "cell_type": "code",
   "execution_count": 8,
   "id": "cbd1e337",
   "metadata": {},
   "outputs": [],
   "source": [
    "#載入GridSearchCV\n",
    "from sklearn.model_selection import GridSearchCV\n",
    "#GridSearchCV是建立一個dictionary來組合要測試的參數\n",
    "param_grid = {'C':[0.1,1,10,100,1000],'gamma':[1,0.1,0.01,0.001,0.0001]}\n",
    "#GridSearchCV算是一個meta-estimator，參數中帶有estimator，像是SVC。重點是會創造一個新的estimator，但又表現得一模一樣，也就是estimator=SVC時，就是作為分類器\n",
    "#Verbose可設定為任一整數，它只是代表數字越高，文字解釋越多\n",
    "grid = GridSearchCV(SVC(),param_grid,verbose=3)"
   ]
  },
  {
   "cell_type": "code",
   "execution_count": 9,
   "id": "cd04e4f8",
   "metadata": {},
   "outputs": [
    {
     "name": "stdout",
     "output_type": "stream",
     "text": [
      "Fitting 5 folds for each of 25 candidates, totalling 125 fits\n",
      "[CV 1/5] END ....................C=0.1, gamma=1;, score=0.694 total time=   0.9s\n",
      "[CV 2/5] END ....................C=0.1, gamma=1;, score=0.705 total time=   0.8s\n",
      "[CV 3/5] END ....................C=0.1, gamma=1;, score=0.689 total time=   0.8s\n",
      "[CV 4/5] END ....................C=0.1, gamma=1;, score=0.676 total time=   0.8s\n",
      "[CV 5/5] END ....................C=0.1, gamma=1;, score=0.682 total time=   0.9s\n",
      "[CV 1/5] END ..................C=0.1, gamma=0.1;, score=0.694 total time=   0.9s\n",
      "[CV 2/5] END ..................C=0.1, gamma=0.1;, score=0.705 total time=   1.0s\n",
      "[CV 3/5] END ..................C=0.1, gamma=0.1;, score=0.689 total time=   1.0s\n",
      "[CV 4/5] END ..................C=0.1, gamma=0.1;, score=0.676 total time=   0.9s\n",
      "[CV 5/5] END ..................C=0.1, gamma=0.1;, score=0.682 total time=   1.0s\n",
      "[CV 1/5] END .................C=0.1, gamma=0.01;, score=0.694 total time=   1.3s\n",
      "[CV 2/5] END .................C=0.1, gamma=0.01;, score=0.705 total time=   1.3s\n",
      "[CV 3/5] END .................C=0.1, gamma=0.01;, score=0.689 total time=   1.3s\n",
      "[CV 4/5] END .................C=0.1, gamma=0.01;, score=0.676 total time=   1.3s\n",
      "[CV 5/5] END .................C=0.1, gamma=0.01;, score=0.682 total time=   1.3s\n",
      "[CV 1/5] END ................C=0.1, gamma=0.001;, score=0.501 total time=   1.3s\n",
      "[CV 2/5] END ................C=0.1, gamma=0.001;, score=0.501 total time=   1.2s\n",
      "[CV 3/5] END ................C=0.1, gamma=0.001;, score=0.502 total time=   1.3s\n",
      "[CV 4/5] END ................C=0.1, gamma=0.001;, score=0.502 total time=   1.2s\n",
      "[CV 5/5] END ................C=0.1, gamma=0.001;, score=0.502 total time=   1.3s\n",
      "[CV 1/5] END ...............C=0.1, gamma=0.0001;, score=0.501 total time=   1.3s\n",
      "[CV 2/5] END ...............C=0.1, gamma=0.0001;, score=0.501 total time=   1.3s\n",
      "[CV 3/5] END ...............C=0.1, gamma=0.0001;, score=0.502 total time=   1.3s\n",
      "[CV 4/5] END ...............C=0.1, gamma=0.0001;, score=0.502 total time=   1.3s\n",
      "[CV 5/5] END ...............C=0.1, gamma=0.0001;, score=0.502 total time=   1.4s\n",
      "[CV 1/5] END ......................C=1, gamma=1;, score=0.690 total time=   0.8s\n",
      "[CV 2/5] END ......................C=1, gamma=1;, score=0.702 total time=   0.8s\n",
      "[CV 3/5] END ......................C=1, gamma=1;, score=0.689 total time=   0.8s\n",
      "[CV 4/5] END ......................C=1, gamma=1;, score=0.676 total time=   0.7s\n",
      "[CV 5/5] END ......................C=1, gamma=1;, score=0.682 total time=   0.7s\n",
      "[CV 1/5] END ....................C=1, gamma=0.1;, score=0.694 total time=   0.9s\n",
      "[CV 2/5] END ....................C=1, gamma=0.1;, score=0.705 total time=   0.9s\n",
      "[CV 3/5] END ....................C=1, gamma=0.1;, score=0.689 total time=   0.9s\n",
      "[CV 4/5] END ....................C=1, gamma=0.1;, score=0.676 total time=   0.9s\n",
      "[CV 5/5] END ....................C=1, gamma=0.1;, score=0.682 total time=   0.9s\n",
      "[CV 1/5] END ...................C=1, gamma=0.01;, score=0.694 total time=   0.9s\n",
      "[CV 2/5] END ...................C=1, gamma=0.01;, score=0.705 total time=   0.9s\n",
      "[CV 3/5] END ...................C=1, gamma=0.01;, score=0.689 total time=   0.9s\n",
      "[CV 4/5] END ...................C=1, gamma=0.01;, score=0.676 total time=   0.9s\n",
      "[CV 5/5] END ...................C=1, gamma=0.01;, score=0.682 total time=   0.9s\n",
      "[CV 1/5] END ..................C=1, gamma=0.001;, score=0.694 total time=   1.3s\n",
      "[CV 2/5] END ..................C=1, gamma=0.001;, score=0.705 total time=   1.3s\n",
      "[CV 3/5] END ..................C=1, gamma=0.001;, score=0.689 total time=   1.3s\n",
      "[CV 4/5] END ..................C=1, gamma=0.001;, score=0.676 total time=   1.3s\n",
      "[CV 5/5] END ..................C=1, gamma=0.001;, score=0.682 total time=   1.2s\n",
      "[CV 1/5] END .................C=1, gamma=0.0001;, score=0.501 total time=   1.2s\n",
      "[CV 2/5] END .................C=1, gamma=0.0001;, score=0.501 total time=   1.3s\n",
      "[CV 3/5] END .................C=1, gamma=0.0001;, score=0.502 total time=   1.4s\n",
      "[CV 4/5] END .................C=1, gamma=0.0001;, score=0.502 total time=   1.3s\n",
      "[CV 5/5] END .................C=1, gamma=0.0001;, score=0.502 total time=   1.2s\n",
      "[CV 1/5] END .....................C=10, gamma=1;, score=0.690 total time=   0.8s\n",
      "[CV 2/5] END .....................C=10, gamma=1;, score=0.702 total time=   0.8s\n",
      "[CV 3/5] END .....................C=10, gamma=1;, score=0.689 total time=   0.9s\n",
      "[CV 4/5] END .....................C=10, gamma=1;, score=0.676 total time=   0.8s\n",
      "[CV 5/5] END .....................C=10, gamma=1;, score=0.682 total time=   0.8s\n",
      "[CV 1/5] END ...................C=10, gamma=0.1;, score=0.694 total time=   1.4s\n",
      "[CV 2/5] END ...................C=10, gamma=0.1;, score=0.705 total time=   1.5s\n",
      "[CV 3/5] END ...................C=10, gamma=0.1;, score=0.689 total time=   1.2s\n",
      "[CV 4/5] END ...................C=10, gamma=0.1;, score=0.676 total time=   1.3s\n",
      "[CV 5/5] END ...................C=10, gamma=0.1;, score=0.682 total time=   1.1s\n",
      "[CV 1/5] END ..................C=10, gamma=0.01;, score=0.694 total time=   0.9s\n",
      "[CV 2/5] END ..................C=10, gamma=0.01;, score=0.705 total time=   0.9s\n",
      "[CV 3/5] END ..................C=10, gamma=0.01;, score=0.689 total time=   1.0s\n",
      "[CV 4/5] END ..................C=10, gamma=0.01;, score=0.676 total time=   0.9s\n",
      "[CV 5/5] END ..................C=10, gamma=0.01;, score=0.682 total time=   0.9s\n",
      "[CV 1/5] END .................C=10, gamma=0.001;, score=0.694 total time=   1.0s\n",
      "[CV 2/5] END .................C=10, gamma=0.001;, score=0.705 total time=   0.9s\n",
      "[CV 3/5] END .................C=10, gamma=0.001;, score=0.689 total time=   0.9s\n",
      "[CV 4/5] END .................C=10, gamma=0.001;, score=0.676 total time=   0.9s\n",
      "[CV 5/5] END .................C=10, gamma=0.001;, score=0.682 total time=   1.0s\n",
      "[CV 1/5] END ................C=10, gamma=0.0001;, score=0.694 total time=   1.2s\n",
      "[CV 2/5] END ................C=10, gamma=0.0001;, score=0.705 total time=   1.3s\n",
      "[CV 3/5] END ................C=10, gamma=0.0001;, score=0.689 total time=   1.4s\n",
      "[CV 4/5] END ................C=10, gamma=0.0001;, score=0.676 total time=   1.3s\n",
      "[CV 5/5] END ................C=10, gamma=0.0001;, score=0.682 total time=   1.3s\n",
      "[CV 1/5] END ....................C=100, gamma=1;, score=0.690 total time=   0.9s\n",
      "[CV 2/5] END ....................C=100, gamma=1;, score=0.702 total time=   0.8s\n",
      "[CV 3/5] END ....................C=100, gamma=1;, score=0.689 total time=   0.7s\n",
      "[CV 4/5] END ....................C=100, gamma=1;, score=0.676 total time=   0.7s\n",
      "[CV 5/5] END ....................C=100, gamma=1;, score=0.682 total time=   0.9s\n",
      "[CV 1/5] END ..................C=100, gamma=0.1;, score=0.694 total time=   3.2s\n",
      "[CV 2/5] END ..................C=100, gamma=0.1;, score=0.705 total time=   5.8s\n",
      "[CV 3/5] END ..................C=100, gamma=0.1;, score=0.689 total time=   3.9s\n",
      "[CV 4/5] END ..................C=100, gamma=0.1;, score=0.676 total time=   3.4s\n",
      "[CV 5/5] END ..................C=100, gamma=0.1;, score=0.682 total time=   1.5s\n",
      "[CV 1/5] END .................C=100, gamma=0.01;, score=0.694 total time=   2.1s\n",
      "[CV 2/5] END .................C=100, gamma=0.01;, score=0.705 total time=   2.1s\n",
      "[CV 3/5] END .................C=100, gamma=0.01;, score=0.689 total time=   1.9s\n",
      "[CV 4/5] END .................C=100, gamma=0.01;, score=0.676 total time=   2.1s\n",
      "[CV 5/5] END .................C=100, gamma=0.01;, score=0.682 total time=   1.7s\n",
      "[CV 1/5] END ................C=100, gamma=0.001;, score=0.694 total time=   1.4s\n",
      "[CV 2/5] END ................C=100, gamma=0.001;, score=0.705 total time=   1.4s\n",
      "[CV 3/5] END ................C=100, gamma=0.001;, score=0.689 total time=   1.4s\n",
      "[CV 4/5] END ................C=100, gamma=0.001;, score=0.676 total time=   1.4s\n",
      "[CV 5/5] END ................C=100, gamma=0.001;, score=0.682 total time=   1.4s\n",
      "[CV 1/5] END ...............C=100, gamma=0.0001;, score=0.694 total time=   0.8s\n",
      "[CV 2/5] END ...............C=100, gamma=0.0001;, score=0.705 total time=   0.7s\n",
      "[CV 3/5] END ...............C=100, gamma=0.0001;, score=0.689 total time=   0.7s\n",
      "[CV 4/5] END ...............C=100, gamma=0.0001;, score=0.676 total time=   0.8s\n",
      "[CV 5/5] END ...............C=100, gamma=0.0001;, score=0.682 total time=   0.8s\n",
      "[CV 1/5] END ...................C=1000, gamma=1;, score=0.690 total time=   0.8s\n"
     ]
    },
    {
     "name": "stdout",
     "output_type": "stream",
     "text": [
      "[CV 2/5] END ...................C=1000, gamma=1;, score=0.702 total time=   0.8s\n",
      "[CV 3/5] END ...................C=1000, gamma=1;, score=0.689 total time=   0.8s\n",
      "[CV 4/5] END ...................C=1000, gamma=1;, score=0.676 total time=   0.8s\n",
      "[CV 5/5] END ...................C=1000, gamma=1;, score=0.682 total time=   0.8s\n",
      "[CV 1/5] END .................C=1000, gamma=0.1;, score=0.693 total time=   5.9s\n",
      "[CV 2/5] END .................C=1000, gamma=0.1;, score=0.702 total time=   5.6s\n",
      "[CV 3/5] END .................C=1000, gamma=0.1;, score=0.689 total time=  10.6s\n",
      "[CV 4/5] END .................C=1000, gamma=0.1;, score=0.676 total time=  14.3s\n",
      "[CV 5/5] END .................C=1000, gamma=0.1;, score=0.682 total time=   3.8s\n",
      "[CV 1/5] END ................C=1000, gamma=0.01;, score=0.694 total time=   3.1s\n",
      "[CV 2/5] END ................C=1000, gamma=0.01;, score=0.705 total time=   3.2s\n",
      "[CV 3/5] END ................C=1000, gamma=0.01;, score=0.689 total time=   2.3s\n",
      "[CV 4/5] END ................C=1000, gamma=0.01;, score=0.676 total time=   2.6s\n",
      "[CV 5/5] END ................C=1000, gamma=0.01;, score=0.682 total time=   2.6s\n",
      "[CV 1/5] END ...............C=1000, gamma=0.001;, score=0.694 total time=   8.7s\n",
      "[CV 2/5] END ...............C=1000, gamma=0.001;, score=0.705 total time=  13.5s\n",
      "[CV 3/5] END ...............C=1000, gamma=0.001;, score=0.689 total time=  15.2s\n",
      "[CV 4/5] END ...............C=1000, gamma=0.001;, score=0.676 total time=   9.5s\n",
      "[CV 5/5] END ...............C=1000, gamma=0.001;, score=0.682 total time=  16.0s\n",
      "[CV 1/5] END ..............C=1000, gamma=0.0001;, score=0.694 total time=   2.7s\n",
      "[CV 2/5] END ..............C=1000, gamma=0.0001;, score=0.705 total time=   1.9s\n",
      "[CV 3/5] END ..............C=1000, gamma=0.0001;, score=0.689 total time=   2.7s\n",
      "[CV 4/5] END ..............C=1000, gamma=0.0001;, score=0.676 total time=   1.7s\n",
      "[CV 5/5] END ..............C=1000, gamma=0.0001;, score=0.682 total time=   2.1s\n"
     ]
    },
    {
     "data": {
      "text/plain": [
       "GridSearchCV(estimator=SVC(),\n",
       "             param_grid={'C': [0.1, 1, 10, 100, 1000],\n",
       "                         'gamma': [1, 0.1, 0.01, 0.001, 0.0001]},\n",
       "             verbose=3)"
      ]
     },
     "execution_count": 9,
     "metadata": {},
     "output_type": "execute_result"
    }
   ],
   "source": [
    "#利用剛剛設定的參數來找到最適合的模型\n",
    "grid.fit(X_train,y_train)"
   ]
  },
  {
   "cell_type": "code",
   "execution_count": 10,
   "id": "8c1731e6",
   "metadata": {},
   "outputs": [
    {
     "data": {
      "text/plain": [
       "SVC(C=0.1, gamma=1)"
      ]
     },
     "execution_count": 10,
     "metadata": {},
     "output_type": "execute_result"
    }
   ],
   "source": [
    "#顯示最佳estimator參數\n",
    "grid.best_estimator_"
   ]
  },
  {
   "cell_type": "code",
   "execution_count": 11,
   "id": "9a22452a",
   "metadata": {},
   "outputs": [],
   "source": [
    "#利用剛剛的最佳參考再重新預測測試組\n",
    "grid_predictions = grid.predict(X_test)"
   ]
  },
  {
   "cell_type": "code",
   "execution_count": 12,
   "id": "282a3c70",
   "metadata": {},
   "outputs": [
    {
     "name": "stdout",
     "output_type": "stream",
     "text": [
      "[[550 183]\n",
      " [255 462]]\n",
      "\n",
      "\n",
      "              precision    recall  f1-score   support\n",
      "\n",
      "           0       0.68      0.75      0.72       733\n",
      "           1       0.72      0.64      0.68       717\n",
      "\n",
      "    accuracy                           0.70      1450\n",
      "   macro avg       0.70      0.70      0.70      1450\n",
      "weighted avg       0.70      0.70      0.70      1450\n",
      "\n"
     ]
    }
   ],
   "source": [
    "#評估新參考的預測結果好壞\n",
    "print(confusion_matrix(y_test,grid_predictions))\n",
    "print('\\n')\n",
    "print(classification_report(y_test,grid_predictions))"
   ]
  },
  {
   "cell_type": "markdown",
   "id": "0b5afcb1",
   "metadata": {},
   "source": [
    "## 連任"
   ]
  },
  {
   "cell_type": "code",
   "execution_count": 13,
   "id": "800cd248",
   "metadata": {},
   "outputs": [
    {
     "data": {
      "text/html": [
       "<div>\n",
       "<style scoped>\n",
       "    .dataframe tbody tr th:only-of-type {\n",
       "        vertical-align: middle;\n",
       "    }\n",
       "\n",
       "    .dataframe tbody tr th {\n",
       "        vertical-align: top;\n",
       "    }\n",
       "\n",
       "    .dataframe thead th {\n",
       "        text-align: right;\n",
       "    }\n",
       "</style>\n",
       "<table border=\"1\" class=\"dataframe\">\n",
       "  <thead>\n",
       "    <tr style=\"text-align: right;\">\n",
       "      <th></th>\n",
       "      <th>continue or not</th>\n",
       "    </tr>\n",
       "  </thead>\n",
       "  <tbody>\n",
       "    <tr>\n",
       "      <th>0</th>\n",
       "      <td>0</td>\n",
       "    </tr>\n",
       "    <tr>\n",
       "      <th>1</th>\n",
       "      <td>0</td>\n",
       "    </tr>\n",
       "    <tr>\n",
       "      <th>2</th>\n",
       "      <td>0</td>\n",
       "    </tr>\n",
       "    <tr>\n",
       "      <th>3</th>\n",
       "      <td>0</td>\n",
       "    </tr>\n",
       "    <tr>\n",
       "      <th>4</th>\n",
       "      <td>1</td>\n",
       "    </tr>\n",
       "    <tr>\n",
       "      <th>...</th>\n",
       "      <td>...</td>\n",
       "    </tr>\n",
       "    <tr>\n",
       "      <th>7245</th>\n",
       "      <td>0</td>\n",
       "    </tr>\n",
       "    <tr>\n",
       "      <th>7246</th>\n",
       "      <td>0</td>\n",
       "    </tr>\n",
       "    <tr>\n",
       "      <th>7247</th>\n",
       "      <td>1</td>\n",
       "    </tr>\n",
       "    <tr>\n",
       "      <th>7248</th>\n",
       "      <td>1</td>\n",
       "    </tr>\n",
       "    <tr>\n",
       "      <th>7249</th>\n",
       "      <td>0</td>\n",
       "    </tr>\n",
       "  </tbody>\n",
       "</table>\n",
       "<p>7250 rows × 1 columns</p>\n",
       "</div>"
      ],
      "text/plain": [
       "      continue or not\n",
       "0                   0\n",
       "1                   0\n",
       "2                   0\n",
       "3                   0\n",
       "4                   1\n",
       "...               ...\n",
       "7245                0\n",
       "7246                0\n",
       "7247                1\n",
       "7248                1\n",
       "7249                0\n",
       "\n",
       "[7250 rows x 1 columns]"
      ]
     },
     "execution_count": 13,
     "metadata": {},
     "output_type": "execute_result"
    }
   ],
   "source": [
    "df2 = df[['continue or not']]\n",
    "df2"
   ]
  },
  {
   "cell_type": "code",
   "execution_count": 14,
   "id": "d57b7e68",
   "metadata": {},
   "outputs": [],
   "source": [
    "X = df2\n",
    "y = df['Elected note']\n",
    "X_train, X_test, y_train, y_test = train_test_split(X,y,test_size=0.2,random_state=101)"
   ]
  },
  {
   "cell_type": "code",
   "execution_count": 15,
   "id": "4dca0e00",
   "metadata": {},
   "outputs": [],
   "source": [
    "from sklearn.svm import SVC\n",
    "model = SVC(kernel=\"poly\")\n",
    "model.fit(X_train,y_train)\n",
    "predictions = model.predict(X_test)"
   ]
  },
  {
   "cell_type": "code",
   "execution_count": 16,
   "id": "a8ecf437",
   "metadata": {},
   "outputs": [
    {
     "name": "stdout",
     "output_type": "stream",
     "text": [
      "[[550 183]\n",
      " [255 462]]\n",
      "\n",
      "\n",
      "              precision    recall  f1-score   support\n",
      "\n",
      "           0       0.68      0.75      0.72       733\n",
      "           1       0.72      0.64      0.68       717\n",
      "\n",
      "    accuracy                           0.70      1450\n",
      "   macro avg       0.70      0.70      0.70      1450\n",
      "weighted avg       0.70      0.70      0.70      1450\n",
      "\n"
     ]
    }
   ],
   "source": [
    "from sklearn.metrics import classification_report, confusion_matrix\n",
    "print(confusion_matrix(y_test,predictions))\n",
    "print('\\n')\n",
    "print(classification_report(y_test,predictions))"
   ]
  },
  {
   "cell_type": "markdown",
   "id": "b82e59cc",
   "metadata": {},
   "source": [
    "## 號碼"
   ]
  },
  {
   "cell_type": "code",
   "execution_count": 17,
   "id": "eff57ca7",
   "metadata": {},
   "outputs": [
    {
     "data": {
      "text/html": [
       "<div>\n",
       "<style scoped>\n",
       "    .dataframe tbody tr th:only-of-type {\n",
       "        vertical-align: middle;\n",
       "    }\n",
       "\n",
       "    .dataframe tbody tr th {\n",
       "        vertical-align: top;\n",
       "    }\n",
       "\n",
       "    .dataframe thead th {\n",
       "        text-align: right;\n",
       "    }\n",
       "</style>\n",
       "<table border=\"1\" class=\"dataframe\">\n",
       "  <thead>\n",
       "    <tr style=\"text-align: right;\">\n",
       "      <th></th>\n",
       "      <th>Number</th>\n",
       "    </tr>\n",
       "  </thead>\n",
       "  <tbody>\n",
       "    <tr>\n",
       "      <th>0</th>\n",
       "      <td>1</td>\n",
       "    </tr>\n",
       "    <tr>\n",
       "      <th>1</th>\n",
       "      <td>2</td>\n",
       "    </tr>\n",
       "    <tr>\n",
       "      <th>2</th>\n",
       "      <td>1</td>\n",
       "    </tr>\n",
       "    <tr>\n",
       "      <th>3</th>\n",
       "      <td>2</td>\n",
       "    </tr>\n",
       "    <tr>\n",
       "      <th>4</th>\n",
       "      <td>1</td>\n",
       "    </tr>\n",
       "    <tr>\n",
       "      <th>...</th>\n",
       "      <td>...</td>\n",
       "    </tr>\n",
       "    <tr>\n",
       "      <th>7245</th>\n",
       "      <td>2</td>\n",
       "    </tr>\n",
       "    <tr>\n",
       "      <th>7246</th>\n",
       "      <td>1</td>\n",
       "    </tr>\n",
       "    <tr>\n",
       "      <th>7247</th>\n",
       "      <td>2</td>\n",
       "    </tr>\n",
       "    <tr>\n",
       "      <th>7248</th>\n",
       "      <td>1</td>\n",
       "    </tr>\n",
       "    <tr>\n",
       "      <th>7249</th>\n",
       "      <td>2</td>\n",
       "    </tr>\n",
       "  </tbody>\n",
       "</table>\n",
       "<p>7250 rows × 1 columns</p>\n",
       "</div>"
      ],
      "text/plain": [
       "      Number\n",
       "0          1\n",
       "1          2\n",
       "2          1\n",
       "3          2\n",
       "4          1\n",
       "...      ...\n",
       "7245       2\n",
       "7246       1\n",
       "7247       2\n",
       "7248       1\n",
       "7249       2\n",
       "\n",
       "[7250 rows x 1 columns]"
      ]
     },
     "execution_count": 17,
     "metadata": {},
     "output_type": "execute_result"
    }
   ],
   "source": [
    "df3 = df[['Number']]\n",
    "df3"
   ]
  },
  {
   "cell_type": "code",
   "execution_count": 18,
   "id": "6aaf1953",
   "metadata": {},
   "outputs": [],
   "source": [
    "X = df3\n",
    "y = df['Elected note']\n",
    "X_train, X_test, y_train, y_test = train_test_split(X,y,test_size=0.2,random_state=101)"
   ]
  },
  {
   "cell_type": "code",
   "execution_count": 19,
   "id": "43cc17e2",
   "metadata": {},
   "outputs": [],
   "source": [
    "model.fit(X_train,y_train)\n",
    "predictions = model.predict(X_test)"
   ]
  },
  {
   "cell_type": "code",
   "execution_count": 20,
   "id": "987be38b",
   "metadata": {},
   "outputs": [
    {
     "name": "stdout",
     "output_type": "stream",
     "text": [
      "[[350 383]\n",
      " [352 365]]\n",
      "\n",
      "\n",
      "              precision    recall  f1-score   support\n",
      "\n",
      "           0       0.50      0.48      0.49       733\n",
      "           1       0.49      0.51      0.50       717\n",
      "\n",
      "    accuracy                           0.49      1450\n",
      "   macro avg       0.49      0.49      0.49      1450\n",
      "weighted avg       0.49      0.49      0.49      1450\n",
      "\n"
     ]
    }
   ],
   "source": [
    "from sklearn.metrics import classification_report, confusion_matrix\n",
    "print(confusion_matrix(y_test,predictions))\n",
    "print('\\n')\n",
    "print(classification_report(y_test,predictions))"
   ]
  },
  {
   "cell_type": "markdown",
   "id": "0d0ad7b2",
   "metadata": {},
   "source": [
    "## 連任+號碼"
   ]
  },
  {
   "cell_type": "code",
   "execution_count": 21,
   "id": "981c1bb7",
   "metadata": {},
   "outputs": [
    {
     "data": {
      "text/html": [
       "<div>\n",
       "<style scoped>\n",
       "    .dataframe tbody tr th:only-of-type {\n",
       "        vertical-align: middle;\n",
       "    }\n",
       "\n",
       "    .dataframe tbody tr th {\n",
       "        vertical-align: top;\n",
       "    }\n",
       "\n",
       "    .dataframe thead th {\n",
       "        text-align: right;\n",
       "    }\n",
       "</style>\n",
       "<table border=\"1\" class=\"dataframe\">\n",
       "  <thead>\n",
       "    <tr style=\"text-align: right;\">\n",
       "      <th></th>\n",
       "      <th>Number</th>\n",
       "      <th>continue or not</th>\n",
       "    </tr>\n",
       "  </thead>\n",
       "  <tbody>\n",
       "    <tr>\n",
       "      <th>0</th>\n",
       "      <td>1</td>\n",
       "      <td>0</td>\n",
       "    </tr>\n",
       "    <tr>\n",
       "      <th>1</th>\n",
       "      <td>2</td>\n",
       "      <td>0</td>\n",
       "    </tr>\n",
       "    <tr>\n",
       "      <th>2</th>\n",
       "      <td>1</td>\n",
       "      <td>0</td>\n",
       "    </tr>\n",
       "    <tr>\n",
       "      <th>3</th>\n",
       "      <td>2</td>\n",
       "      <td>0</td>\n",
       "    </tr>\n",
       "    <tr>\n",
       "      <th>4</th>\n",
       "      <td>1</td>\n",
       "      <td>1</td>\n",
       "    </tr>\n",
       "    <tr>\n",
       "      <th>...</th>\n",
       "      <td>...</td>\n",
       "      <td>...</td>\n",
       "    </tr>\n",
       "    <tr>\n",
       "      <th>7245</th>\n",
       "      <td>2</td>\n",
       "      <td>0</td>\n",
       "    </tr>\n",
       "    <tr>\n",
       "      <th>7246</th>\n",
       "      <td>1</td>\n",
       "      <td>0</td>\n",
       "    </tr>\n",
       "    <tr>\n",
       "      <th>7247</th>\n",
       "      <td>2</td>\n",
       "      <td>1</td>\n",
       "    </tr>\n",
       "    <tr>\n",
       "      <th>7248</th>\n",
       "      <td>1</td>\n",
       "      <td>1</td>\n",
       "    </tr>\n",
       "    <tr>\n",
       "      <th>7249</th>\n",
       "      <td>2</td>\n",
       "      <td>0</td>\n",
       "    </tr>\n",
       "  </tbody>\n",
       "</table>\n",
       "<p>7250 rows × 2 columns</p>\n",
       "</div>"
      ],
      "text/plain": [
       "      Number  continue or not\n",
       "0          1                0\n",
       "1          2                0\n",
       "2          1                0\n",
       "3          2                0\n",
       "4          1                1\n",
       "...      ...              ...\n",
       "7245       2                0\n",
       "7246       1                0\n",
       "7247       2                1\n",
       "7248       1                1\n",
       "7249       2                0\n",
       "\n",
       "[7250 rows x 2 columns]"
      ]
     },
     "execution_count": 21,
     "metadata": {},
     "output_type": "execute_result"
    }
   ],
   "source": [
    "df4 = df[['Number','continue or not']]\n",
    "df4"
   ]
  },
  {
   "cell_type": "code",
   "execution_count": 22,
   "id": "ec950807",
   "metadata": {},
   "outputs": [],
   "source": [
    "X = df4\n",
    "y = df['Elected note']\n",
    "X_train, X_test, y_train, y_test = train_test_split(X,y,test_size=0.2,random_state=101)"
   ]
  },
  {
   "cell_type": "code",
   "execution_count": 23,
   "id": "aebd957f",
   "metadata": {},
   "outputs": [],
   "source": [
    "model.fit(X_train,y_train)\n",
    "predictions = model.predict(X_test)"
   ]
  },
  {
   "cell_type": "code",
   "execution_count": 24,
   "id": "746be20f",
   "metadata": {},
   "outputs": [
    {
     "name": "stdout",
     "output_type": "stream",
     "text": [
      "[[550 183]\n",
      " [255 462]]\n",
      "\n",
      "\n",
      "              precision    recall  f1-score   support\n",
      "\n",
      "           0       0.68      0.75      0.72       733\n",
      "           1       0.72      0.64      0.68       717\n",
      "\n",
      "    accuracy                           0.70      1450\n",
      "   macro avg       0.70      0.70      0.70      1450\n",
      "weighted avg       0.70      0.70      0.70      1450\n",
      "\n"
     ]
    }
   ],
   "source": [
    "from sklearn.metrics import classification_report, confusion_matrix\n",
    "print(confusion_matrix(y_test,predictions))\n",
    "print('\\n')\n",
    "print(classification_report(y_test,predictions))"
   ]
  },
  {
   "cell_type": "markdown",
   "id": "b3350d3b",
   "metadata": {},
   "source": [
    "## 性別"
   ]
  },
  {
   "cell_type": "code",
   "execution_count": 25,
   "id": "dd8fca8b",
   "metadata": {},
   "outputs": [],
   "source": [
    "df5 = df[['Gender']]\n",
    "X = df5\n",
    "y = df['Elected note']\n",
    "X_train, X_test, y_train, y_test = train_test_split(X,y,test_size=0.2,random_state=101)\n",
    "model.fit(X_train,y_train)\n",
    "predictions = model.predict(X_test)"
   ]
  },
  {
   "cell_type": "code",
   "execution_count": 26,
   "id": "25cbe4ea",
   "metadata": {},
   "outputs": [
    {
     "name": "stdout",
     "output_type": "stream",
     "text": [
      "[[120 613]\n",
      " [117 600]]\n",
      "\n",
      "\n",
      "              precision    recall  f1-score   support\n",
      "\n",
      "           0       0.51      0.16      0.25       733\n",
      "           1       0.49      0.84      0.62       717\n",
      "\n",
      "    accuracy                           0.50      1450\n",
      "   macro avg       0.50      0.50      0.43      1450\n",
      "weighted avg       0.50      0.50      0.43      1450\n",
      "\n"
     ]
    }
   ],
   "source": [
    "from sklearn.metrics import classification_report, confusion_matrix\n",
    "print(confusion_matrix(y_test,predictions))\n",
    "print('\\n')\n",
    "print(classification_report(y_test,predictions))"
   ]
  },
  {
   "cell_type": "markdown",
   "id": "faea4ac9",
   "metadata": {},
   "source": [
    "## 政黨"
   ]
  },
  {
   "cell_type": "code",
   "execution_count": 27,
   "id": "72472071",
   "metadata": {},
   "outputs": [],
   "source": [
    "df6 = df[['PartyMembership']]\n",
    "X = df6\n",
    "y = df['Elected note']\n",
    "X_train, X_test, y_train, y_test = train_test_split(X,y,test_size=0.2,random_state=101)\n",
    "model.fit(X_train,y_train)\n",
    "predictions = model.predict(X_test)"
   ]
  },
  {
   "cell_type": "code",
   "execution_count": 28,
   "id": "7a2187dd",
   "metadata": {},
   "outputs": [
    {
     "name": "stdout",
     "output_type": "stream",
     "text": [
      "[[641  92]\n",
      " [594 123]]\n",
      "\n",
      "\n",
      "              precision    recall  f1-score   support\n",
      "\n",
      "           0       0.52      0.87      0.65       733\n",
      "           1       0.57      0.17      0.26       717\n",
      "\n",
      "    accuracy                           0.53      1450\n",
      "   macro avg       0.55      0.52      0.46      1450\n",
      "weighted avg       0.55      0.53      0.46      1450\n",
      "\n"
     ]
    }
   ],
   "source": [
    "from sklearn.metrics import classification_report, confusion_matrix\n",
    "print(confusion_matrix(y_test,predictions))\n",
    "print('\\n')\n",
    "print(classification_report(y_test,predictions))"
   ]
  },
  {
   "cell_type": "markdown",
   "id": "4909c7a2",
   "metadata": {},
   "source": [
    "## 年紀"
   ]
  },
  {
   "cell_type": "code",
   "execution_count": 29,
   "id": "06fb2355",
   "metadata": {},
   "outputs": [],
   "source": [
    "df7 = df[['Age']]\n",
    "X = df7\n",
    "y = df['Elected note']\n",
    "X_train, X_test, y_train, y_test = train_test_split(X,y,test_size=0.2,random_state=101)\n",
    "model.fit(X_train,y_train)\n",
    "predictions = model.predict(X_test)"
   ]
  },
  {
   "cell_type": "code",
   "execution_count": 30,
   "id": "7c75c0bc",
   "metadata": {},
   "outputs": [
    {
     "name": "stdout",
     "output_type": "stream",
     "text": [
      "[[354 379]\n",
      " [369 348]]\n",
      "\n",
      "\n",
      "              precision    recall  f1-score   support\n",
      "\n",
      "           0       0.49      0.48      0.49       733\n",
      "           1       0.48      0.49      0.48       717\n",
      "\n",
      "    accuracy                           0.48      1450\n",
      "   macro avg       0.48      0.48      0.48      1450\n",
      "weighted avg       0.48      0.48      0.48      1450\n",
      "\n"
     ]
    }
   ],
   "source": [
    "from sklearn.metrics import classification_report, confusion_matrix\n",
    "print(confusion_matrix(y_test,predictions))\n",
    "print('\\n')\n",
    "print(classification_report(y_test,predictions))"
   ]
  },
  {
   "cell_type": "markdown",
   "id": "9825174e",
   "metadata": {},
   "source": [
    "##  整組1人現任1人分現任"
   ]
  },
  {
   "cell_type": "code",
   "execution_count": 31,
   "id": "951cd65c",
   "metadata": {},
   "outputs": [
    {
     "data": {
      "text/html": [
       "<div>\n",
       "<style scoped>\n",
       "    .dataframe tbody tr th:only-of-type {\n",
       "        vertical-align: middle;\n",
       "    }\n",
       "\n",
       "    .dataframe tbody tr th {\n",
       "        vertical-align: top;\n",
       "    }\n",
       "\n",
       "    .dataframe thead th {\n",
       "        text-align: right;\n",
       "    }\n",
       "</style>\n",
       "<table border=\"1\" class=\"dataframe\">\n",
       "  <thead>\n",
       "    <tr style=\"text-align: right;\">\n",
       "      <th></th>\n",
       "      <th>Number</th>\n",
       "      <th>Gender</th>\n",
       "      <th>PartyMembership</th>\n",
       "      <th>Elected note</th>\n",
       "      <th>continue or not</th>\n",
       "      <th>Age</th>\n",
       "    </tr>\n",
       "  </thead>\n",
       "  <tbody>\n",
       "    <tr>\n",
       "      <th>0</th>\n",
       "      <td>1</td>\n",
       "      <td>1</td>\n",
       "      <td>1</td>\n",
       "      <td>1</td>\n",
       "      <td>1</td>\n",
       "      <td>1.0</td>\n",
       "    </tr>\n",
       "    <tr>\n",
       "      <th>1</th>\n",
       "      <td>2</td>\n",
       "      <td>1</td>\n",
       "      <td>0</td>\n",
       "      <td>0</td>\n",
       "      <td>0</td>\n",
       "      <td>2.0</td>\n",
       "    </tr>\n",
       "    <tr>\n",
       "      <th>2</th>\n",
       "      <td>1</td>\n",
       "      <td>0</td>\n",
       "      <td>1</td>\n",
       "      <td>1</td>\n",
       "      <td>1</td>\n",
       "      <td>2.0</td>\n",
       "    </tr>\n",
       "    <tr>\n",
       "      <th>3</th>\n",
       "      <td>2</td>\n",
       "      <td>1</td>\n",
       "      <td>0</td>\n",
       "      <td>0</td>\n",
       "      <td>0</td>\n",
       "      <td>1.0</td>\n",
       "    </tr>\n",
       "    <tr>\n",
       "      <th>4</th>\n",
       "      <td>1</td>\n",
       "      <td>1</td>\n",
       "      <td>0</td>\n",
       "      <td>0</td>\n",
       "      <td>0</td>\n",
       "      <td>2.0</td>\n",
       "    </tr>\n",
       "    <tr>\n",
       "      <th>...</th>\n",
       "      <td>...</td>\n",
       "      <td>...</td>\n",
       "      <td>...</td>\n",
       "      <td>...</td>\n",
       "      <td>...</td>\n",
       "      <td>...</td>\n",
       "    </tr>\n",
       "    <tr>\n",
       "      <th>6287</th>\n",
       "      <td>2</td>\n",
       "      <td>1</td>\n",
       "      <td>0</td>\n",
       "      <td>0</td>\n",
       "      <td>0</td>\n",
       "      <td>2.0</td>\n",
       "    </tr>\n",
       "    <tr>\n",
       "      <th>6288</th>\n",
       "      <td>1</td>\n",
       "      <td>1</td>\n",
       "      <td>0</td>\n",
       "      <td>0</td>\n",
       "      <td>0</td>\n",
       "      <td>2.0</td>\n",
       "    </tr>\n",
       "    <tr>\n",
       "      <th>6289</th>\n",
       "      <td>2</td>\n",
       "      <td>1</td>\n",
       "      <td>0</td>\n",
       "      <td>1</td>\n",
       "      <td>1</td>\n",
       "      <td>1.0</td>\n",
       "    </tr>\n",
       "    <tr>\n",
       "      <th>6290</th>\n",
       "      <td>1</td>\n",
       "      <td>1</td>\n",
       "      <td>0</td>\n",
       "      <td>0</td>\n",
       "      <td>1</td>\n",
       "      <td>1.0</td>\n",
       "    </tr>\n",
       "    <tr>\n",
       "      <th>6291</th>\n",
       "      <td>2</td>\n",
       "      <td>1</td>\n",
       "      <td>0</td>\n",
       "      <td>1</td>\n",
       "      <td>0</td>\n",
       "      <td>2.0</td>\n",
       "    </tr>\n",
       "  </tbody>\n",
       "</table>\n",
       "<p>6292 rows × 6 columns</p>\n",
       "</div>"
      ],
      "text/plain": [
       "      Number  Gender  PartyMembership  Elected note  continue or not  Age\n",
       "0          1       1                1             1                1  1.0\n",
       "1          2       1                0             0                0  2.0\n",
       "2          1       0                1             1                1  2.0\n",
       "3          2       1                0             0                0  1.0\n",
       "4          1       1                0             0                0  2.0\n",
       "...      ...     ...              ...           ...              ...  ...\n",
       "6287       2       1                0             0                0  2.0\n",
       "6288       1       1                0             0                0  2.0\n",
       "6289       2       1                0             1                1  1.0\n",
       "6290       1       1                0             0                1  1.0\n",
       "6291       2       1                0             1                0  2.0\n",
       "\n",
       "[6292 rows x 6 columns]"
      ]
     },
     "execution_count": 31,
     "metadata": {},
     "output_type": "execute_result"
    }
   ],
   "source": [
    "import pandas as pd \n",
    "df_test = pd.read_csv(\"107factor_continue.csv\")\n",
    "df_test"
   ]
  },
  {
   "cell_type": "code",
   "execution_count": 33,
   "id": "443467ba",
   "metadata": {},
   "outputs": [],
   "source": [
    "df8 = df_test[['continue or not']]\n",
    "X = df8\n",
    "y = df_test['Elected note']\n",
    "X_train, X_test, y_train, y_test = train_test_split(X,y,test_size=0.2,random_state=101)\n",
    "model.fit(X_train,y_train)\n",
    "predictions = model.predict(X_test)"
   ]
  },
  {
   "cell_type": "code",
   "execution_count": 34,
   "id": "d48b0516",
   "metadata": {},
   "outputs": [
    {
     "name": "stdout",
     "output_type": "stream",
     "text": [
      "[[455 169]\n",
      " [172 463]]\n",
      "\n",
      "\n",
      "              precision    recall  f1-score   support\n",
      "\n",
      "           0       0.73      0.73      0.73       624\n",
      "           1       0.73      0.73      0.73       635\n",
      "\n",
      "    accuracy                           0.73      1259\n",
      "   macro avg       0.73      0.73      0.73      1259\n",
      "weighted avg       0.73      0.73      0.73      1259\n",
      "\n"
     ]
    }
   ],
   "source": [
    "from sklearn.metrics import classification_report, confusion_matrix\n",
    "print(confusion_matrix(y_test,predictions))\n",
    "print('\\n')\n",
    "print(classification_report(y_test,predictions))"
   ]
  },
  {
   "cell_type": "code",
   "execution_count": 36,
   "id": "536df371",
   "metadata": {},
   "outputs": [
    {
     "name": "stdout",
     "output_type": "stream",
     "text": [
      "為現任\n",
      "總人數： 3146\n",
      "當選： 2265\n",
      "未當選： 881\n",
      "----------------------------------\n",
      "非現任\n",
      "總人數： 3146\n",
      "當選： 881\n",
      "未當選： 2265\n"
     ]
    }
   ],
   "source": [
    "df_continue =  df_test[df_test['continue or not'] == 1]\n",
    "print(\"為現任\")\n",
    "print('總人數：',len(df_continue))\n",
    "print('當選：',len(df_continue[df_continue['Elected note'] == 1]))\n",
    "print('未當選：',len(df_continue[df_continue['Elected note'] == 0]))\n",
    "df_no_continue =  df_test[df_test['continue or not'] == 0]\n",
    "print('----------------------------------')\n",
    "print(\"非現任\")\n",
    "print('總人數：',len(df_no_continue))\n",
    "print('當選：',len(df_no_continue[df_no_continue['Elected note'] == 1]))\n",
    "print('未當選：',len(df_no_continue[df_no_continue['Elected note'] == 0]))"
   ]
  },
  {
   "cell_type": "code",
   "execution_count": 37,
   "id": "2859e848",
   "metadata": {},
   "outputs": [],
   "source": [
    "df1 = df_test[['Number','Gender','PartyMembership','continue or not','Age']]\n",
    "X = df1\n",
    "y = df_test['Elected note']\n",
    "X_train, X_test, y_train, y_test = train_test_split(X,y,test_size=0.2,random_state=101)\n",
    "model.fit(X_train,y_train)\n",
    "predictions = model.predict(X_test)"
   ]
  },
  {
   "cell_type": "code",
   "execution_count": 38,
   "id": "465c9da4",
   "metadata": {},
   "outputs": [
    {
     "name": "stdout",
     "output_type": "stream",
     "text": [
      "[[455 169]\n",
      " [172 463]]\n",
      "\n",
      "\n",
      "              precision    recall  f1-score   support\n",
      "\n",
      "           0       0.73      0.73      0.73       624\n",
      "           1       0.73      0.73      0.73       635\n",
      "\n",
      "    accuracy                           0.73      1259\n",
      "   macro avg       0.73      0.73      0.73      1259\n",
      "weighted avg       0.73      0.73      0.73      1259\n",
      "\n"
     ]
    }
   ],
   "source": [
    "from sklearn.metrics import classification_report, confusion_matrix\n",
    "print(confusion_matrix(y_test,predictions))\n",
    "print('\\n')\n",
    "print(classification_report(y_test,predictions))"
   ]
  },
  {
   "cell_type": "code",
   "execution_count": null,
   "id": "6f7f64e7",
   "metadata": {},
   "outputs": [],
   "source": []
  },
  {
   "cell_type": "code",
   "execution_count": null,
   "id": "9811a737",
   "metadata": {},
   "outputs": [],
   "source": []
  },
  {
   "cell_type": "markdown",
   "id": "dea6d3c9",
   "metadata": {},
   "source": [
    "## 『整組全非現任』"
   ]
  },
  {
   "cell_type": "code",
   "execution_count": 39,
   "id": "b9d75916",
   "metadata": {},
   "outputs": [
    {
     "data": {
      "text/html": [
       "<div>\n",
       "<style scoped>\n",
       "    .dataframe tbody tr th:only-of-type {\n",
       "        vertical-align: middle;\n",
       "    }\n",
       "\n",
       "    .dataframe tbody tr th {\n",
       "        vertical-align: top;\n",
       "    }\n",
       "\n",
       "    .dataframe thead th {\n",
       "        text-align: right;\n",
       "    }\n",
       "</style>\n",
       "<table border=\"1\" class=\"dataframe\">\n",
       "  <thead>\n",
       "    <tr style=\"text-align: right;\">\n",
       "      <th></th>\n",
       "      <th>Number</th>\n",
       "      <th>Gender</th>\n",
       "      <th>PartyMembership</th>\n",
       "      <th>Elected note</th>\n",
       "      <th>continue or not</th>\n",
       "      <th>Age</th>\n",
       "    </tr>\n",
       "  </thead>\n",
       "  <tbody>\n",
       "    <tr>\n",
       "      <th>0</th>\n",
       "      <td>1</td>\n",
       "      <td>1</td>\n",
       "      <td>1</td>\n",
       "      <td>1</td>\n",
       "      <td>0</td>\n",
       "      <td>2.0</td>\n",
       "    </tr>\n",
       "    <tr>\n",
       "      <th>1</th>\n",
       "      <td>2</td>\n",
       "      <td>0</td>\n",
       "      <td>1</td>\n",
       "      <td>0</td>\n",
       "      <td>0</td>\n",
       "      <td>1.0</td>\n",
       "    </tr>\n",
       "    <tr>\n",
       "      <th>2</th>\n",
       "      <td>1</td>\n",
       "      <td>1</td>\n",
       "      <td>0</td>\n",
       "      <td>0</td>\n",
       "      <td>0</td>\n",
       "      <td>1.0</td>\n",
       "    </tr>\n",
       "    <tr>\n",
       "      <th>3</th>\n",
       "      <td>2</td>\n",
       "      <td>0</td>\n",
       "      <td>1</td>\n",
       "      <td>1</td>\n",
       "      <td>0</td>\n",
       "      <td>2.0</td>\n",
       "    </tr>\n",
       "    <tr>\n",
       "      <th>4</th>\n",
       "      <td>1</td>\n",
       "      <td>1</td>\n",
       "      <td>0</td>\n",
       "      <td>1</td>\n",
       "      <td>0</td>\n",
       "      <td>2.0</td>\n",
       "    </tr>\n",
       "    <tr>\n",
       "      <th>...</th>\n",
       "      <td>...</td>\n",
       "      <td>...</td>\n",
       "      <td>...</td>\n",
       "      <td>...</td>\n",
       "      <td>...</td>\n",
       "      <td>...</td>\n",
       "    </tr>\n",
       "    <tr>\n",
       "      <th>953</th>\n",
       "      <td>2</td>\n",
       "      <td>0</td>\n",
       "      <td>1</td>\n",
       "      <td>0</td>\n",
       "      <td>0</td>\n",
       "      <td>1.0</td>\n",
       "    </tr>\n",
       "    <tr>\n",
       "      <th>954</th>\n",
       "      <td>1</td>\n",
       "      <td>0</td>\n",
       "      <td>0</td>\n",
       "      <td>0</td>\n",
       "      <td>0</td>\n",
       "      <td>1.0</td>\n",
       "    </tr>\n",
       "    <tr>\n",
       "      <th>955</th>\n",
       "      <td>2</td>\n",
       "      <td>1</td>\n",
       "      <td>0</td>\n",
       "      <td>1</td>\n",
       "      <td>0</td>\n",
       "      <td>2.0</td>\n",
       "    </tr>\n",
       "    <tr>\n",
       "      <th>956</th>\n",
       "      <td>1</td>\n",
       "      <td>1</td>\n",
       "      <td>0</td>\n",
       "      <td>0</td>\n",
       "      <td>0</td>\n",
       "      <td>1.0</td>\n",
       "    </tr>\n",
       "    <tr>\n",
       "      <th>957</th>\n",
       "      <td>2</td>\n",
       "      <td>1</td>\n",
       "      <td>0</td>\n",
       "      <td>1</td>\n",
       "      <td>0</td>\n",
       "      <td>2.0</td>\n",
       "    </tr>\n",
       "  </tbody>\n",
       "</table>\n",
       "<p>958 rows × 6 columns</p>\n",
       "</div>"
      ],
      "text/plain": [
       "     Number  Gender  PartyMembership  Elected note  continue or not  Age\n",
       "0         1       1                1             1                0  2.0\n",
       "1         2       0                1             0                0  1.0\n",
       "2         1       1                0             0                0  1.0\n",
       "3         2       0                1             1                0  2.0\n",
       "4         1       1                0             1                0  2.0\n",
       "..      ...     ...              ...           ...              ...  ...\n",
       "953       2       0                1             0                0  1.0\n",
       "954       1       0                0             0                0  1.0\n",
       "955       2       1                0             1                0  2.0\n",
       "956       1       1                0             0                0  1.0\n",
       "957       2       1                0             1                0  2.0\n",
       "\n",
       "[958 rows x 6 columns]"
      ]
     },
     "execution_count": 39,
     "metadata": {},
     "output_type": "execute_result"
    }
   ],
   "source": [
    "import pandas as pd \n",
    "df_test = pd.read_csv(\"107factor_no_continue.csv\")\n",
    "df_test"
   ]
  },
  {
   "cell_type": "code",
   "execution_count": 40,
   "id": "1ed22225",
   "metadata": {},
   "outputs": [],
   "source": [
    "df1 = df_test[['Number','Gender','PartyMembership','Age']]"
   ]
  },
  {
   "cell_type": "code",
   "execution_count": 41,
   "id": "94640769",
   "metadata": {},
   "outputs": [],
   "source": [
    "from sklearn.model_selection import train_test_split\n",
    "\n",
    "X = df1\n",
    "y = df_test['Elected note']\n",
    "X_train, X_test, y_train, y_test = train_test_split(X,y,test_size=0.2,random_state=101)"
   ]
  },
  {
   "cell_type": "code",
   "execution_count": 42,
   "id": "c4c06a61",
   "metadata": {},
   "outputs": [],
   "source": [
    "from sklearn.svm import SVC\n",
    "model = SVC()\n",
    "model.fit(X_train,y_train)\n",
    "predictions = model.predict(X_test)"
   ]
  },
  {
   "cell_type": "code",
   "execution_count": 43,
   "id": "9502f8b5",
   "metadata": {},
   "outputs": [
    {
     "name": "stdout",
     "output_type": "stream",
     "text": [
      "[[53 29]\n",
      " [40 70]]\n",
      "\n",
      "\n",
      "              precision    recall  f1-score   support\n",
      "\n",
      "           0       0.57      0.65      0.61        82\n",
      "           1       0.71      0.64      0.67       110\n",
      "\n",
      "    accuracy                           0.64       192\n",
      "   macro avg       0.64      0.64      0.64       192\n",
      "weighted avg       0.65      0.64      0.64       192\n",
      "\n"
     ]
    }
   ],
   "source": [
    "from sklearn.metrics import classification_report, confusion_matrix\n",
    "print(confusion_matrix(y_test,predictions))\n",
    "print('\\n')\n",
    "print(classification_report(y_test,predictions))"
   ]
  },
  {
   "cell_type": "code",
   "execution_count": null,
   "id": "c264a81e",
   "metadata": {},
   "outputs": [],
   "source": []
  },
  {
   "cell_type": "markdown",
   "id": "9a96cd1d",
   "metadata": {},
   "source": [
    "# Multi-layer Perceptron (MLP)"
   ]
  },
  {
   "cell_type": "markdown",
   "id": "78fa4ea1",
   "metadata": {},
   "source": [
    "## factor.csv"
   ]
  },
  {
   "cell_type": "code",
   "execution_count": null,
   "id": "a0aa1871",
   "metadata": {},
   "outputs": [],
   "source": [
    "import pandas as pd \n",
    "df = pd.read_csv(\"factor.csv\")\n",
    "df1 = df[['Number','Gender','PartyMembership','continue or not','Age']]\n",
    "\n",
    "from sklearn.model_selection import train_test_split\n",
    "X = df1\n",
    "y = df['Elected note']\n",
    "X_train, X_test, y_train, y_test = train_test_split(X,y,test_size=0.2,random_state=101)"
   ]
  },
  {
   "cell_type": "code",
   "execution_count": null,
   "id": "787d754e",
   "metadata": {},
   "outputs": [],
   "source": [
    "from sklearn.neural_network import MLPClassifier\n",
    "model = MLPClassifier(solver='lbfgs', alpha=1e-5,hidden_layer_sizes=(5, 2), random_state=1)\n",
    "model.fit(X_train,y_train)\n",
    "predictions = model.predict(X_test)"
   ]
  },
  {
   "cell_type": "code",
   "execution_count": null,
   "id": "565959ef",
   "metadata": {},
   "outputs": [],
   "source": [
    "from sklearn.metrics import classification_report, confusion_matrix\n",
    "print(confusion_matrix(y_test,predictions))\n",
    "print('\\n')\n",
    "print(classification_report(y_test,predictions))"
   ]
  },
  {
   "cell_type": "code",
   "execution_count": null,
   "id": "c0740d9b",
   "metadata": {},
   "outputs": [],
   "source": [
    "from sklearn.model_selection import cross_val_score\n",
    "X_train, X_test, y_train, y_test = train_test_split(X, y, random_state=3)\n",
    "print('準確率: %s' % cross_val_score(model, X, y, cv=5).mean())"
   ]
  },
  {
   "cell_type": "markdown",
   "id": "8a6184f4",
   "metadata": {},
   "source": [
    "## 103_two_compare_continue.csv"
   ]
  },
  {
   "cell_type": "code",
   "execution_count": null,
   "id": "1f7a7e05",
   "metadata": {},
   "outputs": [],
   "source": [
    "import pandas as pd \n",
    "df_test = pd.read_csv(\"103_two_compare_continue.csv\")\n",
    "df_test['是否現任'].replace(\"是\",1,inplace=True)\n",
    "df_test['是否現任'].replace(\"否\",0,inplace=True)\n",
    "\n",
    "df8 = df_test[['是否現任']]\n",
    "X = df8\n",
    "y = df_test['當選註記']\n",
    "X_train, X_test, y_train, y_test = train_test_split(X,y,test_size=0.2,random_state=101)\n",
    "df_test"
   ]
  },
  {
   "cell_type": "code",
   "execution_count": null,
   "id": "f23ded73",
   "metadata": {},
   "outputs": [],
   "source": [
    "from sklearn.neural_network import MLPClassifier\n",
    "model = MLPClassifier(solver='lbfgs', alpha=1e-5,hidden_layer_sizes=(5, 2), random_state=1)\n",
    "model.fit(X_train,y_train)\n",
    "predictions = model.predict(X_test)"
   ]
  },
  {
   "cell_type": "code",
   "execution_count": null,
   "id": "4b4bf6f6",
   "metadata": {},
   "outputs": [],
   "source": [
    "from sklearn.metrics import classification_report, confusion_matrix\n",
    "print(confusion_matrix(y_test,predictions))\n",
    "print('\\n')\n",
    "print(classification_report(y_test,predictions))"
   ]
  },
  {
   "cell_type": "code",
   "execution_count": null,
   "id": "65a73ef5",
   "metadata": {},
   "outputs": [],
   "source": [
    "from sklearn.model_selection import cross_val_score\n",
    "X_train, X_test, y_train, y_test = train_test_split(X, y, random_state=3)\n",
    "print('準確率: %s' % cross_val_score(model, X, y, cv=5).mean())"
   ]
  },
  {
   "cell_type": "markdown",
   "id": "9c9daa7a",
   "metadata": {},
   "source": [
    "# XGBoost"
   ]
  },
  {
   "cell_type": "code",
   "execution_count": null,
   "id": "d20c309e",
   "metadata": {},
   "outputs": [],
   "source": [
    "import pandas as pd \n",
    "df = pd.read_csv(\"factor.csv\")\n",
    "df1 = df['continue or not'] #'Number','Gender','PartyMembership','Age'\n",
    "\n",
    "from sklearn.model_selection import train_test_split\n",
    "X = df1\n",
    "y = df['Elected note']\n",
    "X_train, X_test, y_train, y_test = train_test_split(X,y,test_size=0.2,random_state=101)"
   ]
  },
  {
   "cell_type": "code",
   "execution_count": null,
   "id": "1a286908",
   "metadata": {},
   "outputs": [],
   "source": [
    "from xgboost import XGBClassifier\n",
    "\n",
    "# 建立 XGBClassifier 模型\n",
    "xgboostModel = XGBClassifier(n_estimators=100, learning_rate= 0.3)\n",
    "# 使用訓練資料訓練模型\n",
    "xgboostModel.fit(X_train, y_train)\n",
    "# 使用訓練資料預測分類\n",
    "predictions = xgboostModel.predict(X_test)"
   ]
  },
  {
   "cell_type": "code",
   "execution_count": null,
   "id": "194dc75d",
   "metadata": {},
   "outputs": [],
   "source": [
    "# 預測成功的比例\n",
    "print('訓練集: ',xgboostModel.score(X_train,y_train))\n",
    "print('測試集: ',xgboostModel.score(X_test,y_test))"
   ]
  },
  {
   "cell_type": "code",
   "execution_count": null,
   "id": "b697854e",
   "metadata": {},
   "outputs": [],
   "source": [
    "from sklearn.metrics import classification_report, confusion_matrix\n",
    "print(confusion_matrix(y_test,predictions))\n",
    "print('\\n')\n",
    "print(classification_report(y_test,predictions))"
   ]
  },
  {
   "cell_type": "code",
   "execution_count": null,
   "id": "0170ad56",
   "metadata": {},
   "outputs": [],
   "source": [
    "import pandas as pd \n",
    "df_test = pd.read_csv(\"103_two_compare_continue.csv\")\n",
    "df_test['是否現任'].replace(\"是\",1,inplace=True)\n",
    "df_test['是否現任'].replace(\"否\",0,inplace=True)\n",
    "\n",
    "df8 = df_test[['是否現任']]\n",
    "X = df8\n",
    "y = df_test['當選註記']\n",
    "X_train, X_test, y_train, y_test = train_test_split(X,y,test_size=0.2,random_state=101)\n",
    "df_test"
   ]
  },
  {
   "cell_type": "code",
   "execution_count": null,
   "id": "f0c0eb25",
   "metadata": {},
   "outputs": [],
   "source": []
  }
 ],
 "metadata": {
  "kernelspec": {
   "display_name": "Python 3 (ipykernel)",
   "language": "python",
   "name": "python3"
  },
  "language_info": {
   "codemirror_mode": {
    "name": "ipython",
    "version": 3
   },
   "file_extension": ".py",
   "mimetype": "text/x-python",
   "name": "python",
   "nbconvert_exporter": "python",
   "pygments_lexer": "ipython3",
   "version": "3.8.10"
  }
 },
 "nbformat": 4,
 "nbformat_minor": 5
}
